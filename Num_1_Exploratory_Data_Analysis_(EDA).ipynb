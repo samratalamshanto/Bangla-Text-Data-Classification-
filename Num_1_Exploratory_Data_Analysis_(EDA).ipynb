{
  "nbformat": 4,
  "nbformat_minor": 0,
  "metadata": {
    "colab": {
      "name": "Num #1 : Exploratory Data Analysis (EDA)",
      "provenance": [],
      "collapsed_sections": [],
      "authorship_tag": "ABX9TyP54P4aHUE7z2wdGoamfCP/"
    },
    "kernelspec": {
      "name": "python3",
      "display_name": "Python 3"
    },
    "language_info": {
      "name": "python"
    }
  },
  "cells": [
    {
      "cell_type": "markdown",
      "metadata": {
        "id": "kohfrJtyM3ie"
      },
      "source": [
        "# Install kaggle and then upload json file to import data from the kaggle\n"
      ]
    },
    {
      "cell_type": "code",
      "metadata": {
        "colab": {
          "resources": {
            "http://localhost:8080/nbextensions/google.colab/files.js": {
              "data": "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",
              "ok": true,
              "headers": [
                [
                  "content-type",
                  "application/javascript"
                ]
              ],
              "status": 200,
              "status_text": ""
            }
          },
          "base_uri": "https://localhost:8080/",
          "height": 259
        },
        "id": "GzuvKL7_MDQQ",
        "outputId": "496ff91c-5595-43f3-f633-879b44e6f2b4"
      },
      "source": [
        "!pip install kaggle\n",
        "from google.colab import files \n",
        "files.upload() # upload json file\n",
        "\n",
        "!mkdir -p ~/.kaggle\n",
        "!cp kaggle.json ~/.kaggle/\n",
        "\n",
        "!chmod 600 ~/.kaggle/kaggle.json\n"
      ],
      "execution_count": 1,
      "outputs": [
        {
          "output_type": "stream",
          "name": "stdout",
          "text": [
            "Requirement already satisfied: kaggle in /usr/local/lib/python3.7/dist-packages (1.5.12)\n",
            "Requirement already satisfied: certifi in /usr/local/lib/python3.7/dist-packages (from kaggle) (2021.5.30)\n",
            "Requirement already satisfied: six>=1.10 in /usr/local/lib/python3.7/dist-packages (from kaggle) (1.15.0)\n",
            "Requirement already satisfied: tqdm in /usr/local/lib/python3.7/dist-packages (from kaggle) (4.62.3)\n",
            "Requirement already satisfied: requests in /usr/local/lib/python3.7/dist-packages (from kaggle) (2.23.0)\n",
            "Requirement already satisfied: python-slugify in /usr/local/lib/python3.7/dist-packages (from kaggle) (5.0.2)\n",
            "Requirement already satisfied: urllib3 in /usr/local/lib/python3.7/dist-packages (from kaggle) (1.24.3)\n",
            "Requirement already satisfied: python-dateutil in /usr/local/lib/python3.7/dist-packages (from kaggle) (2.8.2)\n",
            "Requirement already satisfied: text-unidecode>=1.3 in /usr/local/lib/python3.7/dist-packages (from python-slugify->kaggle) (1.3)\n",
            "Requirement already satisfied: chardet<4,>=3.0.2 in /usr/local/lib/python3.7/dist-packages (from requests->kaggle) (3.0.4)\n",
            "Requirement already satisfied: idna<3,>=2.5 in /usr/local/lib/python3.7/dist-packages (from requests->kaggle) (2.10)\n"
          ]
        },
        {
          "output_type": "display_data",
          "data": {
            "text/html": [
              "\n",
              "     <input type=\"file\" id=\"files-b4b23755-a876-49d4-b860-8ed9fa741eae\" name=\"files[]\" multiple disabled\n",
              "        style=\"border:none\" />\n",
              "     <output id=\"result-b4b23755-a876-49d4-b860-8ed9fa741eae\">\n",
              "      Upload widget is only available when the cell has been executed in the\n",
              "      current browser session. Please rerun this cell to enable.\n",
              "      </output>\n",
              "      <script src=\"/nbextensions/google.colab/files.js\"></script> "
            ],
            "text/plain": [
              "<IPython.core.display.HTML object>"
            ]
          },
          "metadata": {}
        },
        {
          "output_type": "stream",
          "name": "stdout",
          "text": [
            "Saving kaggle.json to kaggle.json\n"
          ]
        }
      ]
    },
    {
      "cell_type": "code",
      "metadata": {
        "colab": {
          "base_uri": "https://localhost:8080/"
        },
        "id": "d4L337AGMkvi",
        "outputId": "2cbd0782-c551-40c9-bd06-97cd68a5f4e2"
      },
      "source": [
        "!kaggle datasets download -d gakowsher/banglamct7-bangla-multiclass-text-dataset-7-tags"
      ],
      "execution_count": 2,
      "outputs": [
        {
          "output_type": "stream",
          "name": "stdout",
          "text": [
            "Downloading banglamct7-bangla-multiclass-text-dataset-7-tags.zip to /content\n",
            " 96% 322M/335M [00:06<00:00, 43.5MB/s]\n",
            "100% 335M/335M [00:06<00:00, 51.5MB/s]\n"
          ]
        }
      ]
    },
    {
      "cell_type": "code",
      "metadata": {
        "colab": {
          "base_uri": "https://localhost:8080/"
        },
        "id": "5WGJ13tlMvod",
        "outputId": "dcb04efc-70c3-481b-d6a6-9f0eb5acf95b"
      },
      "source": [
        "from zipfile import ZipFile\n",
        "file_name= \"banglamct7-bangla-multiclass-text-dataset-7-tags.zip\"\n",
        "\n",
        "with ZipFile(file_name ,'r') as zip:\n",
        "  zip.extractall()\n",
        "  print('Done')"
      ],
      "execution_count": 3,
      "outputs": [
        {
          "output_type": "stream",
          "name": "stdout",
          "text": [
            "Done\n"
          ]
        }
      ]
    },
    {
      "cell_type": "markdown",
      "metadata": {
        "id": "SXgmk_CJNDKt"
      },
      "source": [
        "# Import Libraries\n"
      ]
    },
    {
      "cell_type": "code",
      "metadata": {
        "id": "Orx5npMjM3ss"
      },
      "source": [
        "import pandas as pd\n",
        "import numpy as np\n",
        "import os\n",
        "from google.colab import output\n"
      ],
      "execution_count": 24,
      "outputs": []
    },
    {
      "cell_type": "code",
      "metadata": {
        "id": "l6HHHBidJoDy"
      },
      "source": [
        "import re\n",
        "import tensorflow as tf\n",
        "import keras\n",
        "from keras.models import Sequential\n",
        "from keras.layers import LSTM,Dense,Dropout,Activation,Embedding,Flatten,Bidirectional,MaxPooling2D, Conv1D, MaxPooling1D\n",
        "\n",
        "from keras import regularizers\n",
        "from keras.preprocessing.text import Tokenizer\n",
        "from keras.preprocessing.sequence import pad_sequences\n",
        "from keras.utils.np_utils import to_categorical\n",
        "\n",
        "\n",
        "from sklearn.model_selection import train_test_split\n",
        "from sklearn.model_selection import StratifiedKFold\n",
        "!pip install bangla-stemmer\n",
        "\n",
        "\n",
        "import seaborn as sns\n",
        "import matplotlib.pyplot as plt\n",
        "output.clear()"
      ],
      "execution_count": 25,
      "outputs": []
    },
    {
      "cell_type": "markdown",
      "metadata": {
        "id": "fVUAOp5yNZeW"
      },
      "source": [
        "#Read Dataset"
      ]
    },
    {
      "cell_type": "code",
      "metadata": {
        "id": "hKBAe7ZFNlQe"
      },
      "source": [
        "train_data=pd.read_csv('/content/BanglaMCT7/train.csv')\n",
        "test_data = pd.read_csv('/content/BanglaMCT7/test.csv')"
      ],
      "execution_count": 26,
      "outputs": []
    },
    {
      "cell_type": "code",
      "metadata": {
        "colab": {
          "base_uri": "https://localhost:8080/",
          "height": 204
        },
        "id": "rVLTkp3MNyPR",
        "outputId": "dc903fd8-883f-482c-b415-a2d088541a8c"
      },
      "source": [
        "train_data.head()"
      ],
      "execution_count": 27,
      "outputs": [
        {
          "output_type": "execute_result",
          "data": {
            "text/html": [
              "<div>\n",
              "<style scoped>\n",
              "    .dataframe tbody tr th:only-of-type {\n",
              "        vertical-align: middle;\n",
              "    }\n",
              "\n",
              "    .dataframe tbody tr th {\n",
              "        vertical-align: top;\n",
              "    }\n",
              "\n",
              "    .dataframe thead th {\n",
              "        text-align: right;\n",
              "    }\n",
              "</style>\n",
              "<table border=\"1\" class=\"dataframe\">\n",
              "  <thead>\n",
              "    <tr style=\"text-align: right;\">\n",
              "      <th></th>\n",
              "      <th>category</th>\n",
              "      <th>text</th>\n",
              "      <th>cleanText</th>\n",
              "    </tr>\n",
              "  </thead>\n",
              "  <tbody>\n",
              "    <tr>\n",
              "      <th>0</th>\n",
              "      <td>economy</td>\n",
              "      <td>বাংলাদেশে সফররত বিশ্ব বাণিজ্য সংস্থা (ডব্লিউট...</td>\n",
              "      <td>বাংলাদেশে    সফররত    বিশ্ব    বাণিজ্য    সং...</td>\n",
              "    </tr>\n",
              "    <tr>\n",
              "      <th>1</th>\n",
              "      <td>sports</td>\n",
              "      <td>ইউরোপিয়ান ফুটবলে আজ ঝড় বয়ে যাচ্ছে। একদিকে সংবা...</td>\n",
              "      <td>ইউরোপিয়ান    ফুটবলে    বয়ে    একদিকে    সংবা...</td>\n",
              "    </tr>\n",
              "    <tr>\n",
              "      <th>2</th>\n",
              "      <td>international</td>\n",
              "      <td>বিজেপির নেতৃত্বে ভারতের উত্তর প্রদেশ থেকে শুরু...</td>\n",
              "      <td>বিজেপির    নেতৃত্বে    ভারতের    উত্তর    প্...</td>\n",
              "    </tr>\n",
              "    <tr>\n",
              "      <th>3</th>\n",
              "      <td>state</td>\n",
              "      <td>নারায়ণগঞ্জের সোনারগাঁ উপজেলার একটি সরকারি প্র...</td>\n",
              "      <td>নারায়ণগঞ্জের    সোনারগাঁ    উপজেলার    সরকা...</td>\n",
              "    </tr>\n",
              "    <tr>\n",
              "      <th>4</th>\n",
              "      <td>sports</td>\n",
              "      <td>‘ছাই থেকে ছাই, ধুলো থেকে ধুলো...’ আধ্যাত্মিক ক...</td>\n",
              "      <td>ছাই    ছাই    ধুলো    ধুলো    আধ্যাত্মিক    ...</td>\n",
              "    </tr>\n",
              "  </tbody>\n",
              "</table>\n",
              "</div>"
            ],
            "text/plain": [
              "        category  ...                                          cleanText\n",
              "0        economy  ...    বাংলাদেশে    সফররত    বিশ্ব    বাণিজ্য    সং...\n",
              "1         sports  ...    ইউরোপিয়ান    ফুটবলে    বয়ে    একদিকে    সংবা...\n",
              "2  international  ...    বিজেপির    নেতৃত্বে    ভারতের    উত্তর    প্...\n",
              "3          state  ...    নারায়ণগঞ্জের    সোনারগাঁ    উপজেলার    সরকা...\n",
              "4         sports  ...    ছাই    ছাই    ধুলো    ধুলো    আধ্যাত্মিক    ...\n",
              "\n",
              "[5 rows x 3 columns]"
            ]
          },
          "metadata": {},
          "execution_count": 27
        }
      ]
    },
    {
      "cell_type": "code",
      "metadata": {
        "colab": {
          "base_uri": "https://localhost:8080/",
          "height": 137
        },
        "id": "yXKDRFACN2R7",
        "outputId": "660dbf34-8e68-45ca-ca03-0e0f00acd27d"
      },
      "source": [
        "train_data.text.iloc[5]"
      ],
      "execution_count": 28,
      "outputs": [
        {
          "output_type": "execute_result",
          "data": {
            "application/vnd.google.colaboratory.intrinsic+json": {
              "type": "string"
            },
            "text/plain": [
              "'খুদে ব্লগ লেখার জনপ্রিয় সাইট টুইটার এখন বাংলা ভাষায় দেখা যাবে। টুইটারের মূল ওয়েবসাইটের পাশাপাশি মোবাইল ওয়েবসাইট(mobile.twitter.com), অ্যান্ড্রয়েড ও আইওএস অ্যাপ্লিকেশনে (অ্যাপ) বাংলা সমর্থনের সুবিধা চালু করেছে। এর ফলে সম্পূর্ণ বাংলায় বার্তা (টুইট) লেখা ও পড়া যাবে। বাংলা ছাড়াও সম্প্রতি ভিয়েতনামিস, চেক, রোমানিয়ান ও ইউক্রেনিয়ান ভাষা যুক্ত হয়েছে টুইটারে। বিভিন্ন ভাষাভাষীর স্বেচ্ছাসেবকদের অনুবাদ করা এসব ভাষা এর আগে শুধু অনুবাদকাজের সঙ্গে যুক্ত স্বেচ্ছাসেবকদের জন্য উন্মুক্ত ছিল।গতকাল মঙ্গলবার থেকে এসব ভাষার সুবিধা সাধারণ ব্যবহারকারীদের জন্য উন্মুক্ত করা হয়েছে। বাংলা কিংবা অন্যান্য ভাষা নির্বাচন করতে টুইটারের সেটিংস থেকে ভাষা অপশনে গিয়ে পছন্দের ভাষা বেছে নিতে হবে।চাইলে যে কেউ টুইটারের এ ভাষা অনুবাদেও যুক্ত হতে পারেন। এতে নির্দিষ্ট শব্দ কিংবা লাইনের সঠিক অর্থ লিখে জমা দেওয়া যাবে। সেখান থেকে নির্বাচিত এবং সঞ্চালক কর্তৃক পরীক্ষিত হওয়ার পর সেটি মূল টুইটারে বাংলা ভাষায় যুক্ত হবে। আগ্রহীরা (translate.twitter.com) ঠিকানায় গিয়ে বাংলা অনুবাদে যুক্ত হতে পারেন।উল্লেখ্য, ২০০৬ সালে মাত্র ১৪০ শব্দের মধ্যে খুদে ব্লগ লেখার সুবিধা নিয়ে চালু হয় টুইটার। এরই মধ্যে গত বছরের প্রকাশিত তথ্য অনুযায়ী এ ওয়েবসাইটে নিবন্ধিত সদস্যের সংখ্যা ৫০ কোটিরও বেশি, যাঁরা প্রতিদিন ৩৪ কোটি টুইট প্রকাশ করেন। প্রতি মাসে নিয়মিত টুইটার ব্যবহার করেন ২৪ কোটিরও বেশি ব্যবহারকারী। বর্তমানে ৪৪টি ভাষায় টুইটার ব্যবহার করা যায়, যার মধ্যে বেশ কয়েকটি ভাষা পরীক্ষামূলক পর্যায়ে রয়েছে। তবে বাংলা পূর্ণাঙ্গভাবেই চালু হয়েছে। যাঁরা অনুবাদে যুক্ত হয়ে কাজ করছেন, এমন ব্যবহারকারীরা নামের পাশে পাবেন বিশেষ ‘ট্রান্সলেটর’ চিহ্ন দিয়ে দেওয়া টুইটার।—টুইটার ব্লগ অবলম্বনে নুরুন্নবী চৌধুরী'"
            ]
          },
          "metadata": {},
          "execution_count": 28
        }
      ]
    },
    {
      "cell_type": "code",
      "metadata": {
        "colab": {
          "base_uri": "https://localhost:8080/",
          "height": 137
        },
        "id": "S_cLU6sbN7QU",
        "outputId": "8795f593-4225-46de-aeb5-ea6f3e5a2e5b"
      },
      "source": [
        "train_data.cleanText.iloc[5]"
      ],
      "execution_count": 29,
      "outputs": [
        {
          "output_type": "execute_result",
          "data": {
            "application/vnd.google.colaboratory.intrinsic+json": {
              "type": "string"
            },
            "text/plain": [
              "'  খুদে    ব্লগ    লেখার    জনপ্রিয়    সাইট    টুইটার    বাংলা    ভাষায়    টুইটারের    মূল    ওয়েবসাইটের    পাশাপাশি    মোবাইল    ওয়েবসাইট    অ্যান্ড্রয়েড    আইওএস    অ্যাপ্লিকেশনে    অ্যাপ    বাংলা    সমর্থনের    সুবিধা    চালু    সম্পূর্ণ    বাংলায়    বার্তা    টুইট    লেখা    পড়া    বাংলা    ছাড়াও    ভিয়েতনামিস    চেক    রোমানিয়ান    ইউক্রেনিয়ান    ভাষা    যুক্ত    টুইটারে    বিভিন্ন    ভাষাভাষীর    স্বেচ্ছাসেবকদের    অনুবাদ    এসব    ভাষা    অনুবাদকাজের    যুক্ত    স্বেচ্ছাসেবকদের    উন্মুক্ত    গতকাল    মঙ্গলবার    এসব    ভাষার    সুবিধা    সাধারণ    ব্যবহারকারীদের    উন্মুক্ত    বাংলা    অন্যান্য    ভাষা    নির্বাচন    টুইটারের    সেটিংস    ভাষা    অপশনে    পছন্দের    ভাষা    বেছে    চাইলে    টুইটারের    ভাষা    অনুবাদেও    যুক্ত    নির্দিষ্ট    শব্দ    লাইনের    সঠিক    অর্থ    লিখে    জমা    নির্বাচিত    সঞ্চালক    কর্তৃক    পরীক্ষিত    মূল    টুইটারে    বাংলা    ভাষায়    যুক্ত    আগ্রহীরা    ঠিকানায়    বাংলা    অনুবাদে    যুক্ত    উল্লেখ্য    সালে    শব্দের    খুদে    ব্লগ    লেখার    সুবিধা    চালু    টুইটার    এরই    বছরের    প্রকাশিত    তথ্য    ওয়েবসাইটে    নিবন্ধিত    সদস্যের    সংখ্যা    কোটিরও    বেশি    প্রতিদিন    কোটি    টুইট    প্রকাশ    মাসে    নিয়মিত    টুইটার    কোটিরও    বেশি    ব্যবহারকারী    বর্তমানে    ভাষায়    টুইটার    ভাষা    পরীক্ষামূলক    পর্যায়ে    বাংলা    পূর্ণাঙ্গভাবেই    চালু    অনুবাদে    যুক্ত    কাজ    ব্যবহারকারীরা    নামের    পাশে    পাবেন    ট্রান্সলেটর    চিহ্ন    টুইটার    টুইটার    ব্লগ    অবলম্বনে    নুরুন্নবী    চৌধুরী  '"
            ]
          },
          "metadata": {},
          "execution_count": 29
        }
      ]
    },
    {
      "cell_type": "code",
      "metadata": {
        "colab": {
          "base_uri": "https://localhost:8080/",
          "height": 204
        },
        "id": "4Y6zyFJpOGMc",
        "outputId": "6669bab3-b749-4759-83fa-c4b8f67fa9ea"
      },
      "source": [
        "test_data.head()"
      ],
      "execution_count": 30,
      "outputs": [
        {
          "output_type": "execute_result",
          "data": {
            "text/html": [
              "<div>\n",
              "<style scoped>\n",
              "    .dataframe tbody tr th:only-of-type {\n",
              "        vertical-align: middle;\n",
              "    }\n",
              "\n",
              "    .dataframe tbody tr th {\n",
              "        vertical-align: top;\n",
              "    }\n",
              "\n",
              "    .dataframe thead th {\n",
              "        text-align: right;\n",
              "    }\n",
              "</style>\n",
              "<table border=\"1\" class=\"dataframe\">\n",
              "  <thead>\n",
              "    <tr style=\"text-align: right;\">\n",
              "      <th></th>\n",
              "      <th>category</th>\n",
              "      <th>text</th>\n",
              "      <th>cleanText</th>\n",
              "    </tr>\n",
              "  </thead>\n",
              "  <tbody>\n",
              "    <tr>\n",
              "      <th>0</th>\n",
              "      <td>education</td>\n",
              "      <td>অধ্যায়-২প্রিয় পরীক্ষার্থী, আজ তথ্য ও যোগাযোগ প...</td>\n",
              "      <td>অধ্যায়    প্রিয়    পরীক্ষার্থী    তথ্য    যো...</td>\n",
              "    </tr>\n",
              "    <tr>\n",
              "      <th>1</th>\n",
              "      <td>sports</td>\n",
              "      <td>স্পিন, স্পিন, স্পিন। লর্ডসে ইয়াসির শাহ্‌র লেগ ...</td>\n",
              "      <td>স্পিন    স্পিন    স্পিন    লর্ডসে    ইয়াসির ...</td>\n",
              "    </tr>\n",
              "    <tr>\n",
              "      <th>2</th>\n",
              "      <td>international</td>\n",
              "      <td>সিরিয়ার উত্তর-পশ্চিমাঞ্চলে গতকাল রোববার বিমান...</td>\n",
              "      <td>সিরিয়ার    উত্তর    পশ্চিমাঞ্চলে    গতকাল  ...</td>\n",
              "    </tr>\n",
              "    <tr>\n",
              "      <th>3</th>\n",
              "      <td>international</td>\n",
              "      <td>দক্ষিণ আফ্রিকার কেপটাউন বিশ্ববিদ্যালয়ের (ইউসিট...</td>\n",
              "      <td>দক্ষিণ    আফ্রিকার    কেপটাউন    বিশ্ববিদ্যা...</td>\n",
              "    </tr>\n",
              "    <tr>\n",
              "      <th>4</th>\n",
              "      <td>technology</td>\n",
              "      <td>সহজে ডিজিটাল আর্থিক সেবা দিতে অ্যাপ ও ডিজিটাল ...</td>\n",
              "      <td>সহজে    ডিজিটাল    আর্থিক    সেবা    অ্যাপ  ...</td>\n",
              "    </tr>\n",
              "  </tbody>\n",
              "</table>\n",
              "</div>"
            ],
            "text/plain": [
              "        category  ...                                          cleanText\n",
              "0      education  ...    অধ্যায়    প্রিয়    পরীক্ষার্থী    তথ্য    যো...\n",
              "1         sports  ...    স্পিন    স্পিন    স্পিন    লর্ডসে    ইয়াসির ...\n",
              "2  international  ...    সিরিয়ার    উত্তর    পশ্চিমাঞ্চলে    গতকাল  ...\n",
              "3  international  ...    দক্ষিণ    আফ্রিকার    কেপটাউন    বিশ্ববিদ্যা...\n",
              "4     technology  ...    সহজে    ডিজিটাল    আর্থিক    সেবা    অ্যাপ  ...\n",
              "\n",
              "[5 rows x 3 columns]"
            ]
          },
          "metadata": {},
          "execution_count": 30
        }
      ]
    },
    {
      "cell_type": "code",
      "metadata": {
        "colab": {
          "base_uri": "https://localhost:8080/",
          "height": 419
        },
        "id": "yxyu7t6BOUM8",
        "outputId": "3181f2e3-9aba-43f9-b588-ef92ec65cb01"
      },
      "source": [
        "train_data"
      ],
      "execution_count": 31,
      "outputs": [
        {
          "output_type": "execute_result",
          "data": {
            "text/html": [
              "<div>\n",
              "<style scoped>\n",
              "    .dataframe tbody tr th:only-of-type {\n",
              "        vertical-align: middle;\n",
              "    }\n",
              "\n",
              "    .dataframe tbody tr th {\n",
              "        vertical-align: top;\n",
              "    }\n",
              "\n",
              "    .dataframe thead th {\n",
              "        text-align: right;\n",
              "    }\n",
              "</style>\n",
              "<table border=\"1\" class=\"dataframe\">\n",
              "  <thead>\n",
              "    <tr style=\"text-align: right;\">\n",
              "      <th></th>\n",
              "      <th>category</th>\n",
              "      <th>text</th>\n",
              "      <th>cleanText</th>\n",
              "    </tr>\n",
              "  </thead>\n",
              "  <tbody>\n",
              "    <tr>\n",
              "      <th>0</th>\n",
              "      <td>economy</td>\n",
              "      <td>বাংলাদেশে সফররত বিশ্ব বাণিজ্য সংস্থা (ডব্লিউট...</td>\n",
              "      <td>বাংলাদেশে    সফররত    বিশ্ব    বাণিজ্য    সং...</td>\n",
              "    </tr>\n",
              "    <tr>\n",
              "      <th>1</th>\n",
              "      <td>sports</td>\n",
              "      <td>ইউরোপিয়ান ফুটবলে আজ ঝড় বয়ে যাচ্ছে। একদিকে সংবা...</td>\n",
              "      <td>ইউরোপিয়ান    ফুটবলে    বয়ে    একদিকে    সংবা...</td>\n",
              "    </tr>\n",
              "    <tr>\n",
              "      <th>2</th>\n",
              "      <td>international</td>\n",
              "      <td>বিজেপির নেতৃত্বে ভারতের উত্তর প্রদেশ থেকে শুরু...</td>\n",
              "      <td>বিজেপির    নেতৃত্বে    ভারতের    উত্তর    প্...</td>\n",
              "    </tr>\n",
              "    <tr>\n",
              "      <th>3</th>\n",
              "      <td>state</td>\n",
              "      <td>নারায়ণগঞ্জের সোনারগাঁ উপজেলার একটি সরকারি প্র...</td>\n",
              "      <td>নারায়ণগঞ্জের    সোনারগাঁ    উপজেলার    সরকা...</td>\n",
              "    </tr>\n",
              "    <tr>\n",
              "      <th>4</th>\n",
              "      <td>sports</td>\n",
              "      <td>‘ছাই থেকে ছাই, ধুলো থেকে ধুলো...’ আধ্যাত্মিক ক...</td>\n",
              "      <td>ছাই    ছাই    ধুলো    ধুলো    আধ্যাত্মিক    ...</td>\n",
              "    </tr>\n",
              "    <tr>\n",
              "      <th>...</th>\n",
              "      <td>...</td>\n",
              "      <td>...</td>\n",
              "      <td>...</td>\n",
              "    </tr>\n",
              "    <tr>\n",
              "      <th>98878</th>\n",
              "      <td>education</td>\n",
              "      <td>সহকারী অধ্যাপক  টিচার্স ট্রেনিং কলেজ (মহিলা)...</td>\n",
              "      <td>সহকারী    অধ্যাপক    টিচার্স    ট্রেনিং    ক...</td>\n",
              "    </tr>\n",
              "    <tr>\n",
              "      <th>98879</th>\n",
              "      <td>entertainment</td>\n",
              "      <td>অক্টোবরের ১১ তারিখে ৭৫ বছর পূর্ণ করবেন অমিতাভ ...</td>\n",
              "      <td>অক্টোবরের    তারিখে    বছর    পূর্ণ    অমিতা...</td>\n",
              "    </tr>\n",
              "    <tr>\n",
              "      <th>98880</th>\n",
              "      <td>technology</td>\n",
              "      <td>কাজী নাঈম আল রশিদ। সফটওয়্যার প্রকৌশলী। কাজ করে...</td>\n",
              "      <td>কাজী    নাঈম    রশিদ    সফটওয়্যার    প্রকৌশল...</td>\n",
              "    </tr>\n",
              "    <tr>\n",
              "      <th>98881</th>\n",
              "      <td>technology</td>\n",
              "      <td>ইয়াহুকে মার্কিন টেলিকম প্রতিষ্ঠান ভেরাইজন কিনে...</td>\n",
              "      <td>ইয়াহুকে    মার্কিন    টেলিকম    প্রতিষ্ঠান  ...</td>\n",
              "    </tr>\n",
              "    <tr>\n",
              "      <th>98882</th>\n",
              "      <td>education</td>\n",
              "      <td>অধ্যায়-১১প্রিয় শিক্ষার্থী, আজ ফিন্যান্স ও ব্যা...</td>\n",
              "      <td>অধ্যায়    প্রিয়    শিক্ষার্থী    ফিন্যান্স  ...</td>\n",
              "    </tr>\n",
              "  </tbody>\n",
              "</table>\n",
              "<p>98883 rows × 3 columns</p>\n",
              "</div>"
            ],
            "text/plain": [
              "            category  ...                                          cleanText\n",
              "0            economy  ...    বাংলাদেশে    সফররত    বিশ্ব    বাণিজ্য    সং...\n",
              "1             sports  ...    ইউরোপিয়ান    ফুটবলে    বয়ে    একদিকে    সংবা...\n",
              "2      international  ...    বিজেপির    নেতৃত্বে    ভারতের    উত্তর    প্...\n",
              "3              state  ...    নারায়ণগঞ্জের    সোনারগাঁ    উপজেলার    সরকা...\n",
              "4             sports  ...    ছাই    ছাই    ধুলো    ধুলো    আধ্যাত্মিক    ...\n",
              "...              ...  ...                                                ...\n",
              "98878      education  ...    সহকারী    অধ্যাপক    টিচার্স    ট্রেনিং    ক...\n",
              "98879  entertainment  ...    অক্টোবরের    তারিখে    বছর    পূর্ণ    অমিতা...\n",
              "98880     technology  ...    কাজী    নাঈম    রশিদ    সফটওয়্যার    প্রকৌশল...\n",
              "98881     technology  ...    ইয়াহুকে    মার্কিন    টেলিকম    প্রতিষ্ঠান  ...\n",
              "98882      education  ...    অধ্যায়    প্রিয়    শিক্ষার্থী    ফিন্যান্স  ...\n",
              "\n",
              "[98883 rows x 3 columns]"
            ]
          },
          "metadata": {},
          "execution_count": 31
        }
      ]
    },
    {
      "cell_type": "code",
      "metadata": {
        "colab": {
          "base_uri": "https://localhost:8080/",
          "height": 419
        },
        "id": "1-n5PJRfOaO8",
        "outputId": "26f08a47-6304-4302-dce0-0b52c18bc7e8"
      },
      "source": [
        "test_data"
      ],
      "execution_count": 32,
      "outputs": [
        {
          "output_type": "execute_result",
          "data": {
            "text/html": [
              "<div>\n",
              "<style scoped>\n",
              "    .dataframe tbody tr th:only-of-type {\n",
              "        vertical-align: middle;\n",
              "    }\n",
              "\n",
              "    .dataframe tbody tr th {\n",
              "        vertical-align: top;\n",
              "    }\n",
              "\n",
              "    .dataframe thead th {\n",
              "        text-align: right;\n",
              "    }\n",
              "</style>\n",
              "<table border=\"1\" class=\"dataframe\">\n",
              "  <thead>\n",
              "    <tr style=\"text-align: right;\">\n",
              "      <th></th>\n",
              "      <th>category</th>\n",
              "      <th>text</th>\n",
              "      <th>cleanText</th>\n",
              "    </tr>\n",
              "  </thead>\n",
              "  <tbody>\n",
              "    <tr>\n",
              "      <th>0</th>\n",
              "      <td>education</td>\n",
              "      <td>অধ্যায়-২প্রিয় পরীক্ষার্থী, আজ তথ্য ও যোগাযোগ প...</td>\n",
              "      <td>অধ্যায়    প্রিয়    পরীক্ষার্থী    তথ্য    যো...</td>\n",
              "    </tr>\n",
              "    <tr>\n",
              "      <th>1</th>\n",
              "      <td>sports</td>\n",
              "      <td>স্পিন, স্পিন, স্পিন। লর্ডসে ইয়াসির শাহ্‌র লেগ ...</td>\n",
              "      <td>স্পিন    স্পিন    স্পিন    লর্ডসে    ইয়াসির ...</td>\n",
              "    </tr>\n",
              "    <tr>\n",
              "      <th>2</th>\n",
              "      <td>international</td>\n",
              "      <td>সিরিয়ার উত্তর-পশ্চিমাঞ্চলে গতকাল রোববার বিমান...</td>\n",
              "      <td>সিরিয়ার    উত্তর    পশ্চিমাঞ্চলে    গতকাল  ...</td>\n",
              "    </tr>\n",
              "    <tr>\n",
              "      <th>3</th>\n",
              "      <td>international</td>\n",
              "      <td>দক্ষিণ আফ্রিকার কেপটাউন বিশ্ববিদ্যালয়ের (ইউসিট...</td>\n",
              "      <td>দক্ষিণ    আফ্রিকার    কেপটাউন    বিশ্ববিদ্যা...</td>\n",
              "    </tr>\n",
              "    <tr>\n",
              "      <th>4</th>\n",
              "      <td>technology</td>\n",
              "      <td>সহজে ডিজিটাল আর্থিক সেবা দিতে অ্যাপ ও ডিজিটাল ...</td>\n",
              "      <td>সহজে    ডিজিটাল    আর্থিক    সেবা    অ্যাপ  ...</td>\n",
              "    </tr>\n",
              "    <tr>\n",
              "      <th>...</th>\n",
              "      <td>...</td>\n",
              "      <td>...</td>\n",
              "      <td>...</td>\n",
              "    </tr>\n",
              "    <tr>\n",
              "      <th>98879</th>\n",
              "      <td>sports</td>\n",
              "      <td>১৯৫৯ সালে ইউরোপিয়ান ক্লাব কাপে জাতীয় দল পাঠান...</td>\n",
              "      <td>সালে    ইউরোপিয়ান    ক্লাব    কাপে    জাতীয়...</td>\n",
              "    </tr>\n",
              "    <tr>\n",
              "      <th>98880</th>\n",
              "      <td>entertainment</td>\n",
              "      <td>গানের দল সহজিয়ার প্রথম অ্যালবাম ‘রঙমিস্ত্রী’র ...</td>\n",
              "      <td>গানের    সহজিয়ার    প্রথম    অ্যালবাম    রঙম...</td>\n",
              "    </tr>\n",
              "    <tr>\n",
              "      <th>98881</th>\n",
              "      <td>international</td>\n",
              "      <td>ফেসবুকের ৮১ হাজার ব্যবহারকারীর তথ্য চুরি করে স...</td>\n",
              "      <td>ফেসবুকের    হাজার    ব্যবহারকারীর    তথ্য   ...</td>\n",
              "    </tr>\n",
              "    <tr>\n",
              "      <th>98882</th>\n",
              "      <td>economy</td>\n",
              "      <td>পেট্রোল পাম্পে তেল বা সিএনজির বিল বিকাশের মাধ...</td>\n",
              "      <td>পেট্রোল    পাম্পে    তেল    সিএনজির    বিল  ...</td>\n",
              "    </tr>\n",
              "    <tr>\n",
              "      <th>98883</th>\n",
              "      <td>economy</td>\n",
              "      <td>বছর শেষে ঢাকা স্টক এক্সচেঞ্জের (ডিএসই) দুটি সূ...</td>\n",
              "      <td>বছর    শেষে    ঢাকা    স্টক    এক্সচেঞ্জের  ...</td>\n",
              "    </tr>\n",
              "  </tbody>\n",
              "</table>\n",
              "<p>98884 rows × 3 columns</p>\n",
              "</div>"
            ],
            "text/plain": [
              "            category  ...                                          cleanText\n",
              "0          education  ...    অধ্যায়    প্রিয়    পরীক্ষার্থী    তথ্য    যো...\n",
              "1             sports  ...    স্পিন    স্পিন    স্পিন    লর্ডসে    ইয়াসির ...\n",
              "2      international  ...    সিরিয়ার    উত্তর    পশ্চিমাঞ্চলে    গতকাল  ...\n",
              "3      international  ...    দক্ষিণ    আফ্রিকার    কেপটাউন    বিশ্ববিদ্যা...\n",
              "4         technology  ...    সহজে    ডিজিটাল    আর্থিক    সেবা    অ্যাপ  ...\n",
              "...              ...  ...                                                ...\n",
              "98879         sports  ...    সালে    ইউরোপিয়ান    ক্লাব    কাপে    জাতীয়...\n",
              "98880  entertainment  ...    গানের    সহজিয়ার    প্রথম    অ্যালবাম    রঙম...\n",
              "98881  international  ...    ফেসবুকের    হাজার    ব্যবহারকারীর    তথ্য   ...\n",
              "98882        economy  ...    পেট্রোল    পাম্পে    তেল    সিএনজির    বিল  ...\n",
              "98883        economy  ...    বছর    শেষে    ঢাকা    স্টক    এক্সচেঞ্জের  ...\n",
              "\n",
              "[98884 rows x 3 columns]"
            ]
          },
          "metadata": {},
          "execution_count": 32
        }
      ]
    },
    {
      "cell_type": "markdown",
      "metadata": {
        "id": "NiUSh9pSNkwZ"
      },
      "source": [
        "#Train Data Info"
      ]
    },
    {
      "cell_type": "code",
      "metadata": {
        "id": "6SYNv4ISObSk",
        "colab": {
          "base_uri": "https://localhost:8080/"
        },
        "outputId": "7ced3234-527c-4e12-ea63-cf4abe31d65a"
      },
      "source": [
        "train_data.info()"
      ],
      "execution_count": 33,
      "outputs": [
        {
          "output_type": "stream",
          "name": "stdout",
          "text": [
            "<class 'pandas.core.frame.DataFrame'>\n",
            "RangeIndex: 98883 entries, 0 to 98882\n",
            "Data columns (total 3 columns):\n",
            " #   Column     Non-Null Count  Dtype \n",
            "---  ------     --------------  ----- \n",
            " 0   category   98883 non-null  object\n",
            " 1   text       98883 non-null  object\n",
            " 2   cleanText  98883 non-null  object\n",
            "dtypes: object(3)\n",
            "memory usage: 2.3+ MB\n"
          ]
        }
      ]
    },
    {
      "cell_type": "markdown",
      "metadata": {
        "id": "nVBtmMLxNqKq"
      },
      "source": [
        "#Test Data Info"
      ]
    },
    {
      "cell_type": "code",
      "metadata": {
        "colab": {
          "base_uri": "https://localhost:8080/"
        },
        "id": "Ud44bF3a1fZK",
        "outputId": "f16062cc-b534-482d-a7f3-12cf8ea2f60b"
      },
      "source": [
        "test_data.info()"
      ],
      "execution_count": 34,
      "outputs": [
        {
          "output_type": "stream",
          "name": "stdout",
          "text": [
            "<class 'pandas.core.frame.DataFrame'>\n",
            "RangeIndex: 98884 entries, 0 to 98883\n",
            "Data columns (total 3 columns):\n",
            " #   Column     Non-Null Count  Dtype \n",
            "---  ------     --------------  ----- \n",
            " 0   category   98884 non-null  object\n",
            " 1   text       98884 non-null  object\n",
            " 2   cleanText  98884 non-null  object\n",
            "dtypes: object(3)\n",
            "memory usage: 2.3+ MB\n"
          ]
        }
      ]
    },
    {
      "cell_type": "markdown",
      "metadata": {
        "id": "JeS6v6QXNtTH"
      },
      "source": [
        "#Value Count per Category in Train and Test dataset"
      ]
    },
    {
      "cell_type": "code",
      "metadata": {
        "colab": {
          "base_uri": "https://localhost:8080/"
        },
        "id": "49tQX4EM1kAx",
        "outputId": "bc350ba0-75c5-43fe-b06b-0e62c6658efe"
      },
      "source": [
        "train_data.category.value_counts()"
      ],
      "execution_count": 35,
      "outputs": [
        {
          "output_type": "execute_result",
          "data": {
            "text/plain": [
              "sports           15672\n",
              "international    15540\n",
              "state            15362\n",
              "entertainment    15198\n",
              "economy          14430\n",
              "education        12674\n",
              "technology       10007\n",
              "Name: category, dtype: int64"
            ]
          },
          "metadata": {},
          "execution_count": 35
        }
      ]
    },
    {
      "cell_type": "code",
      "metadata": {
        "colab": {
          "base_uri": "https://localhost:8080/"
        },
        "id": "ccw8B1az1voQ",
        "outputId": "92f3001c-35fa-4778-ff71-a1e2cb98bf02"
      },
      "source": [
        "test_data.category.value_counts()"
      ],
      "execution_count": 36,
      "outputs": [
        {
          "output_type": "execute_result",
          "data": {
            "text/plain": [
              "sports           15883\n",
              "international    15314\n",
              "entertainment    15261\n",
              "state            15183\n",
              "economy          14488\n",
              "education        12818\n",
              "technology        9937\n",
              "Name: category, dtype: int64"
            ]
          },
          "metadata": {},
          "execution_count": 36
        }
      ]
    },
    {
      "cell_type": "markdown",
      "metadata": {
        "id": "-kRPzfV5N4Bl"
      },
      "source": [
        "# NaN or Null Value Check"
      ]
    },
    {
      "cell_type": "code",
      "metadata": {
        "colab": {
          "base_uri": "https://localhost:8080/"
        },
        "id": "xhnA4R7z11mh",
        "outputId": "a81ff93c-f1e1-4516-a4d4-b26f18038947"
      },
      "source": [
        "print(train_data.isna().sum())"
      ],
      "execution_count": 37,
      "outputs": [
        {
          "output_type": "stream",
          "name": "stdout",
          "text": [
            "category     0\n",
            "text         0\n",
            "cleanText    0\n",
            "dtype: int64\n"
          ]
        }
      ]
    },
    {
      "cell_type": "code",
      "metadata": {
        "colab": {
          "base_uri": "https://localhost:8080/"
        },
        "id": "krSzl8QuJU20",
        "outputId": "b7bd0098-2fa8-44de-a4cb-31ee1477c2d8"
      },
      "source": [
        "print(test_data.isna().sum())"
      ],
      "execution_count": 38,
      "outputs": [
        {
          "output_type": "stream",
          "name": "stdout",
          "text": [
            "category     0\n",
            "text         0\n",
            "cleanText    0\n",
            "dtype: int64\n"
          ]
        }
      ]
    },
    {
      "cell_type": "code",
      "metadata": {
        "colab": {
          "base_uri": "https://localhost:8080/"
        },
        "id": "71orbxUKFOHT",
        "outputId": "ba8e9154-b11f-46a4-a35d-431557c5bb6e"
      },
      "source": [
        "train_data['category'].unique()"
      ],
      "execution_count": 39,
      "outputs": [
        {
          "output_type": "execute_result",
          "data": {
            "text/plain": [
              "array(['economy', 'sports', 'international', 'state', 'technology',\n",
              "       'entertainment', 'education'], dtype=object)"
            ]
          },
          "metadata": {},
          "execution_count": 39
        }
      ]
    },
    {
      "cell_type": "markdown",
      "metadata": {
        "id": "fvL8w7MNOCKI"
      },
      "source": [
        "#Countplot of Category Value in Train and Test dataset"
      ]
    },
    {
      "cell_type": "code",
      "metadata": {
        "colab": {
          "base_uri": "https://localhost:8080/",
          "height": 623
        },
        "id": "xHlqF9XcJZVi",
        "outputId": "e06f4583-3e08-479c-872d-4ff24485f87a"
      },
      "source": [
        "lst=['economy', 'sports', 'international', 'state', 'technology',\n",
        "       'entertainment', 'education']\n",
        "sns.set_style('whitegrid')\n",
        "countplt, ax = plt.subplots(figsize = (15,7))\n",
        "ax=sns.countplot(train_data['category'],order=lst)\n",
        "ax.set_xticklabels(ax.get_xticklabels(),fontsize=18)\n",
        "\n"
      ],
      "execution_count": 40,
      "outputs": [
        {
          "output_type": "stream",
          "name": "stderr",
          "text": [
            "/usr/local/lib/python3.7/dist-packages/seaborn/_decorators.py:43: FutureWarning: Pass the following variable as a keyword arg: x. From version 0.12, the only valid positional argument will be `data`, and passing other arguments without an explicit keyword will result in an error or misinterpretation.\n",
            "  FutureWarning\n"
          ]
        },
        {
          "output_type": "execute_result",
          "data": {
            "text/plain": [
              "[Text(0, 0, 'economy'),\n",
              " Text(0, 0, 'sports'),\n",
              " Text(0, 0, 'international'),\n",
              " Text(0, 0, 'state'),\n",
              " Text(0, 0, 'technology'),\n",
              " Text(0, 0, 'entertainment'),\n",
              " Text(0, 0, 'education')]"
            ]
          },
          "metadata": {},
          "execution_count": 40
        },
        {
          "output_type": "display_data",
          "data": {
            "image/png": "[encoded data removed]",
            "text/plain": [
              "<Figure size 1080x504 with 1 Axes>"
            ]
          },
          "metadata": {}
        }
      ]
    },
    {
      "cell_type": "code",
      "metadata": {
        "colab": {
          "base_uri": "https://localhost:8080/",
          "height": 623
        },
        "id": "VxLZBZzuFCWf",
        "outputId": "86a11b41-2cfe-4472-cc94-bd5fc5ba91f9"
      },
      "source": [
        "sns.set_style('whitegrid')\n",
        "countplt, ax = plt.subplots(figsize = (15,7))\n",
        "ax=sns.countplot(test_data['category'],order=lst)\n",
        "ax.set_xticklabels(ax.get_xticklabels(),fontsize=18)\n",
        "\n"
      ],
      "execution_count": 41,
      "outputs": [
        {
          "output_type": "stream",
          "name": "stderr",
          "text": [
            "/usr/local/lib/python3.7/dist-packages/seaborn/_decorators.py:43: FutureWarning: Pass the following variable as a keyword arg: x. From version 0.12, the only valid positional argument will be `data`, and passing other arguments without an explicit keyword will result in an error or misinterpretation.\n",
            "  FutureWarning\n"
          ]
        },
        {
          "output_type": "execute_result",
          "data": {
            "text/plain": [
              "[Text(0, 0, 'economy'),\n",
              " Text(0, 0, 'sports'),\n",
              " Text(0, 0, 'international'),\n",
              " Text(0, 0, 'state'),\n",
              " Text(0, 0, 'technology'),\n",
              " Text(0, 0, 'entertainment'),\n",
              " Text(0, 0, 'education')]"
            ]
          },
          "metadata": {},
          "execution_count": 41
        },
        {
          "output_type": "display_data",
          "data": {
            "image/png": "[encoded data removed]",
            "text/plain": [
              "<Figure size 1080x504 with 1 Axes>"
            ]
          },
          "metadata": {}
        }
      ]
    },
    {
      "cell_type": "markdown",
      "metadata": {
        "id": "ydUNpmMhOMl6"
      },
      "source": [
        "#Count Word Length in a Text data in Train and Test dataset"
      ]
    },
    {
      "cell_type": "code",
      "metadata": {
        "colab": {
          "base_uri": "https://localhost:8080/",
          "height": 204
        },
        "id": "09TG7v3quPc-",
        "outputId": "aa268ee0-e160-461a-fcc4-1ed8c4dcc805"
      },
      "source": [
        "def count_word(a):\n",
        "  word_lst= a.split()\n",
        "  number_of_words=len(word_lst)\n",
        "  return number_of_words\n",
        "\n",
        "train_data['length']=train_data['cleanText'].apply(count_word)\n",
        "train_data.head()"
      ],
      "execution_count": 42,
      "outputs": [
        {
          "output_type": "execute_result",
          "data": {
            "text/html": [
              "<div>\n",
              "<style scoped>\n",
              "    .dataframe tbody tr th:only-of-type {\n",
              "        vertical-align: middle;\n",
              "    }\n",
              "\n",
              "    .dataframe tbody tr th {\n",
              "        vertical-align: top;\n",
              "    }\n",
              "\n",
              "    .dataframe thead th {\n",
              "        text-align: right;\n",
              "    }\n",
              "</style>\n",
              "<table border=\"1\" class=\"dataframe\">\n",
              "  <thead>\n",
              "    <tr style=\"text-align: right;\">\n",
              "      <th></th>\n",
              "      <th>category</th>\n",
              "      <th>text</th>\n",
              "      <th>cleanText</th>\n",
              "      <th>length</th>\n",
              "    </tr>\n",
              "  </thead>\n",
              "  <tbody>\n",
              "    <tr>\n",
              "      <th>0</th>\n",
              "      <td>economy</td>\n",
              "      <td>বাংলাদেশে সফররত বিশ্ব বাণিজ্য সংস্থা (ডব্লিউট...</td>\n",
              "      <td>বাংলাদেশে    সফররত    বিশ্ব    বাণিজ্য    সং...</td>\n",
              "      <td>293</td>\n",
              "    </tr>\n",
              "    <tr>\n",
              "      <th>1</th>\n",
              "      <td>sports</td>\n",
              "      <td>ইউরোপিয়ান ফুটবলে আজ ঝড় বয়ে যাচ্ছে। একদিকে সংবা...</td>\n",
              "      <td>ইউরোপিয়ান    ফুটবলে    বয়ে    একদিকে    সংবা...</td>\n",
              "      <td>206</td>\n",
              "    </tr>\n",
              "    <tr>\n",
              "      <th>2</th>\n",
              "      <td>international</td>\n",
              "      <td>বিজেপির নেতৃত্বে ভারতের উত্তর প্রদেশ থেকে শুরু...</td>\n",
              "      <td>বিজেপির    নেতৃত্বে    ভারতের    উত্তর    প্...</td>\n",
              "      <td>167</td>\n",
              "    </tr>\n",
              "    <tr>\n",
              "      <th>3</th>\n",
              "      <td>state</td>\n",
              "      <td>নারায়ণগঞ্জের সোনারগাঁ উপজেলার একটি সরকারি প্র...</td>\n",
              "      <td>নারায়ণগঞ্জের    সোনারগাঁ    উপজেলার    সরকা...</td>\n",
              "      <td>181</td>\n",
              "    </tr>\n",
              "    <tr>\n",
              "      <th>4</th>\n",
              "      <td>sports</td>\n",
              "      <td>‘ছাই থেকে ছাই, ধুলো থেকে ধুলো...’ আধ্যাত্মিক ক...</td>\n",
              "      <td>ছাই    ছাই    ধুলো    ধুলো    আধ্যাত্মিক    ...</td>\n",
              "      <td>148</td>\n",
              "    </tr>\n",
              "  </tbody>\n",
              "</table>\n",
              "</div>"
            ],
            "text/plain": [
              "        category  ... length\n",
              "0        economy  ...    293\n",
              "1         sports  ...    206\n",
              "2  international  ...    167\n",
              "3          state  ...    181\n",
              "4         sports  ...    148\n",
              "\n",
              "[5 rows x 4 columns]"
            ]
          },
          "metadata": {},
          "execution_count": 42
        }
      ]
    },
    {
      "cell_type": "markdown",
      "metadata": {
        "id": "0JS_85I9OX5H"
      },
      "source": [
        "#Max and Min Word length in Train Dataset"
      ]
    },
    {
      "cell_type": "code",
      "metadata": {
        "colab": {
          "base_uri": "https://localhost:8080/"
        },
        "id": "wipVWmzhu0TM",
        "outputId": "6e97c051-6881-4315-ae3d-edc1709fe99d"
      },
      "source": [
        "train_data['length'].max()"
      ],
      "execution_count": 43,
      "outputs": [
        {
          "output_type": "execute_result",
          "data": {
            "text/plain": [
              "5243"
            ]
          },
          "metadata": {},
          "execution_count": 43
        }
      ]
    },
    {
      "cell_type": "code",
      "metadata": {
        "colab": {
          "base_uri": "https://localhost:8080/"
        },
        "id": "eaJSX7Xzu6dm",
        "outputId": "c0870542-556f-44b6-9c66-ffbac2809b42"
      },
      "source": [
        "train_data['length'].min()"
      ],
      "execution_count": 44,
      "outputs": [
        {
          "output_type": "execute_result",
          "data": {
            "text/plain": [
              "1"
            ]
          },
          "metadata": {},
          "execution_count": 44
        }
      ]
    },
    {
      "cell_type": "code",
      "metadata": {
        "colab": {
          "base_uri": "https://localhost:8080/",
          "height": 235
        },
        "id": "y2Z_Gh7Hu_pL",
        "outputId": "3f577e98-9e1b-4cd0-dddf-74038634db46"
      },
      "source": [
        "xx=train_data[train_data['length']==1]\n",
        "xx"
      ],
      "execution_count": 45,
      "outputs": [
        {
          "output_type": "execute_result",
          "data": {
            "text/html": [
              "<div>\n",
              "<style scoped>\n",
              "    .dataframe tbody tr th:only-of-type {\n",
              "        vertical-align: middle;\n",
              "    }\n",
              "\n",
              "    .dataframe tbody tr th {\n",
              "        vertical-align: top;\n",
              "    }\n",
              "\n",
              "    .dataframe thead th {\n",
              "        text-align: right;\n",
              "    }\n",
              "</style>\n",
              "<table border=\"1\" class=\"dataframe\">\n",
              "  <thead>\n",
              "    <tr style=\"text-align: right;\">\n",
              "      <th></th>\n",
              "      <th>category</th>\n",
              "      <th>text</th>\n",
              "      <th>cleanText</th>\n",
              "      <th>length</th>\n",
              "    </tr>\n",
              "  </thead>\n",
              "  <tbody>\n",
              "    <tr>\n",
              "      <th>6584</th>\n",
              "      <td>education</td>\n",
              "      <td>বাগধারা</td>\n",
              "      <td>বাগধারা</td>\n",
              "      <td>1</td>\n",
              "    </tr>\n",
              "    <tr>\n",
              "      <th>47443</th>\n",
              "      <td>economy</td>\n",
              "      <td>মাথাপিছু আয়</td>\n",
              "      <td>মাথাপিছু</td>\n",
              "      <td>1</td>\n",
              "    </tr>\n",
              "    <tr>\n",
              "      <th>53230</th>\n",
              "      <td>economy</td>\n",
              "      <td>বিনিয়োগ</td>\n",
              "      <td>বিনিয়োগ</td>\n",
              "      <td>1</td>\n",
              "    </tr>\n",
              "    <tr>\n",
              "      <th>66243</th>\n",
              "      <td>education</td>\n",
              "      <td>রচনামূলক</td>\n",
              "      <td>রচনামূলক</td>\n",
              "      <td>1</td>\n",
              "    </tr>\n",
              "    <tr>\n",
              "      <th>94158</th>\n",
              "      <td>education</td>\n",
              "      <td>গদ্যাংশ</td>\n",
              "      <td>গদ্যাংশ</td>\n",
              "      <td>1</td>\n",
              "    </tr>\n",
              "    <tr>\n",
              "      <th>97424</th>\n",
              "      <td>education</td>\n",
              "      <td>বহুনির্বাচনী</td>\n",
              "      <td>বহুনির্বাচনী</td>\n",
              "      <td>1</td>\n",
              "    </tr>\n",
              "  </tbody>\n",
              "</table>\n",
              "</div>"
            ],
            "text/plain": [
              "        category                    text         cleanText  length\n",
              "6584   education               বাগধারা           বাগধারা         1\n",
              "47443    economy   মাথাপিছু আয়                  মাথাপিছু         1\n",
              "53230    economy       বিনিয়োগ                   বিনিয়োগ         1\n",
              "66243  education              রচনামূলক          রচনামূলক         1\n",
              "94158  education               গদ্যাংশ           গদ্যাংশ         1\n",
              "97424  education          বহুনির্বাচনী      বহুনির্বাচনী         1"
            ]
          },
          "metadata": {},
          "execution_count": 45
        }
      ]
    },
    {
      "cell_type": "markdown",
      "metadata": {
        "id": "2Q0bGhxxOfDQ"
      },
      "source": [
        "#Max and Min Word length in Test Dataset"
      ]
    },
    {
      "cell_type": "code",
      "metadata": {
        "colab": {
          "base_uri": "https://localhost:8080/"
        },
        "id": "wuODhnKZv7BH",
        "outputId": "c71c294a-5146-49cf-ce8d-fb5bf8752b47"
      },
      "source": [
        "test_data['length']=test_data['cleanText'].apply(count_word)\n",
        "print(test_data['length'].max())"
      ],
      "execution_count": 46,
      "outputs": [
        {
          "output_type": "stream",
          "name": "stdout",
          "text": [
            "5754\n"
          ]
        }
      ]
    },
    {
      "cell_type": "code",
      "metadata": {
        "colab": {
          "base_uri": "https://localhost:8080/"
        },
        "id": "RmUjOwXjQSLF",
        "outputId": "b2f3ce0e-e8eb-4aeb-827a-be827299805d"
      },
      "source": [
        "print(test_data['length'].min())"
      ],
      "execution_count": 47,
      "outputs": [
        {
          "output_type": "stream",
          "name": "stdout",
          "text": [
            "1\n"
          ]
        }
      ]
    },
    {
      "cell_type": "code",
      "metadata": {
        "colab": {
          "base_uri": "https://localhost:8080/",
          "height": 142
        },
        "id": "WClWAqhMw3ae",
        "outputId": "bedff1fd-a097-4a43-8414-de1e420a8d73"
      },
      "source": [
        "xx=test_data[test_data['length']==1]\n",
        "xx"
      ],
      "execution_count": 48,
      "outputs": [
        {
          "output_type": "execute_result",
          "data": {
            "text/html": [
              "<div>\n",
              "<style scoped>\n",
              "    .dataframe tbody tr th:only-of-type {\n",
              "        vertical-align: middle;\n",
              "    }\n",
              "\n",
              "    .dataframe tbody tr th {\n",
              "        vertical-align: top;\n",
              "    }\n",
              "\n",
              "    .dataframe thead th {\n",
              "        text-align: right;\n",
              "    }\n",
              "</style>\n",
              "<table border=\"1\" class=\"dataframe\">\n",
              "  <thead>\n",
              "    <tr style=\"text-align: right;\">\n",
              "      <th></th>\n",
              "      <th>category</th>\n",
              "      <th>text</th>\n",
              "      <th>cleanText</th>\n",
              "      <th>length</th>\n",
              "    </tr>\n",
              "  </thead>\n",
              "  <tbody>\n",
              "    <tr>\n",
              "      <th>24653</th>\n",
              "      <td>education</td>\n",
              "      <td> ইংরেজিTime : 2 hour 30 Minutes, Full Marks :...</td>\n",
              "      <td>ইংরেজি</td>\n",
              "      <td>1</td>\n",
              "    </tr>\n",
              "    <tr>\n",
              "      <th>64413</th>\n",
              "      <td>education</td>\n",
              "      <td>বাংলা</td>\n",
              "      <td>বাংলা</td>\n",
              "      <td>1</td>\n",
              "    </tr>\n",
              "    <tr>\n",
              "      <th>73989</th>\n",
              "      <td>education</td>\n",
              "      <td>পদার্থবিজ্ঞান</td>\n",
              "      <td>পদার্থবিজ্ঞান</td>\n",
              "      <td>1</td>\n",
              "    </tr>\n",
              "  </tbody>\n",
              "</table>\n",
              "</div>"
            ],
            "text/plain": [
              "        category  ... length\n",
              "24653  education  ...      1\n",
              "64413  education  ...      1\n",
              "73989  education  ...      1\n",
              "\n",
              "[3 rows x 4 columns]"
            ]
          },
          "metadata": {},
          "execution_count": 48
        }
      ]
    },
    {
      "cell_type": "markdown",
      "metadata": {
        "id": "RgHyVShVOkPf"
      },
      "source": [
        "#Histrogram of words length in Train and Test dataset"
      ]
    },
    {
      "cell_type": "code",
      "metadata": {
        "colab": {
          "base_uri": "https://localhost:8080/",
          "height": 694
        },
        "id": "xVwdOI_u5bgt",
        "outputId": "573c3214-ca47-421f-aedd-715a48eb905e"
      },
      "source": [
        "#histogram\n",
        "plt.figure(figsize=(10,10))\n",
        "plt.rc('xtick',labelsize=18)\n",
        "sns.distplot(train_data['length'])\n",
        "plt.xlabel('word length', fontsize=20)\n"
      ],
      "execution_count": 49,
      "outputs": [
        {
          "output_type": "stream",
          "name": "stderr",
          "text": [
            "/usr/local/lib/python3.7/dist-packages/seaborn/distributions.py:2619: FutureWarning: `distplot` is a deprecated function and will be removed in a future version. Please adapt your code to use either `displot` (a figure-level function with similar flexibility) or `histplot` (an axes-level function for histograms).\n",
            "  warnings.warn(msg, FutureWarning)\n"
          ]
        },
        {
          "output_type": "execute_result",
          "data": {
            "text/plain": [
              "Text(0.5, 0, 'word length')"
            ]
          },
          "metadata": {},
          "execution_count": 49
        },
        {
          "output_type": "display_data",
          "data": {
            "image/png": "[encoded data removed]",
            "text/plain": [
              "<Figure size 720x720 with 1 Axes>"
            ]
          },
          "metadata": {}
        }
      ]
    },
    {
      "cell_type": "code",
      "metadata": {
        "colab": {
          "base_uri": "https://localhost:8080/",
          "height": 694
        },
        "id": "QTeIqis2DmUK",
        "outputId": "56dbda80-1ff3-46ad-e08e-a898cb9b0b9d"
      },
      "source": [
        "#histogram\n",
        "plt.figure(figsize=(10,10))\n",
        "plt.rc('xtick',labelsize=18)\n",
        "sns.distplot(test_data['length'])\n",
        "plt.xlabel('word length', fontsize=20)"
      ],
      "execution_count": 50,
      "outputs": [
        {
          "output_type": "stream",
          "name": "stderr",
          "text": [
            "/usr/local/lib/python3.7/dist-packages/seaborn/distributions.py:2619: FutureWarning: `distplot` is a deprecated function and will be removed in a future version. Please adapt your code to use either `displot` (a figure-level function with similar flexibility) or `histplot` (an axes-level function for histograms).\n",
            "  warnings.warn(msg, FutureWarning)\n"
          ]
        },
        {
          "output_type": "execute_result",
          "data": {
            "text/plain": [
              "Text(0.5, 0, 'word length')"
            ]
          },
          "metadata": {},
          "execution_count": 50
        },
        {
          "output_type": "display_data",
          "data": {
            "image/png": "[encoded data removed]",
            "text/plain": [
              "<Figure size 720x720 with 1 Axes>"
            ]
          },
          "metadata": {}
        }
      ]
    },
    {
      "cell_type": "markdown",
      "metadata": {
        "id": "gQ5ZfNo2OvfN"
      },
      "source": [
        "#Scatter Plot of per Categrory Vs word length of a text data in Train and Test Dataset"
      ]
    },
    {
      "cell_type": "code",
      "metadata": {
        "colab": {
          "base_uri": "https://localhost:8080/",
          "height": 637
        },
        "id": "L2gKzqjY5_44",
        "outputId": "d4fa4f68-b849-4980-c4a0-ccfdc09202e6"
      },
      "source": [
        "#scatter plot grlivarea/saleprice\n",
        "plt.figure(figsize=(15,10))\n",
        "plt.rc('xtick',labelsize=16, )\n",
        "plt.rc('ytick',labelsize=16)\n",
        "plt.scatter(x=train_data['category'], y=train_data['length'] )\n",
        "plt.xlabel('category', fontsize=20  )\n",
        "plt.ylabel('length', fontsize=20  )"
      ],
      "execution_count": 51,
      "outputs": [
        {
          "output_type": "execute_result",
          "data": {
            "text/plain": [
              "Text(0, 0.5, 'length')"
            ]
          },
          "metadata": {},
          "execution_count": 51
        },
        {
          "output_type": "display_data",
          "data": {
            "image/png": "[encoded data removed]",
            "text/plain": [
              "<Figure size 1080x720 with 1 Axes>"
            ]
          },
          "metadata": {}
        }
      ]
    },
    {
      "cell_type": "code",
      "metadata": {
        "colab": {
          "base_uri": "https://localhost:8080/",
          "height": 639
        },
        "id": "dEc2KWtmDurt",
        "outputId": "9ab4226a-dae8-406d-83fb-797d9f44f28a"
      },
      "source": [
        "#scatter plot grlivarea/saleprice\n",
        "plt.figure(figsize=(15,10))\n",
        "plt.rc('xtick',labelsize=16, )\n",
        "plt.rc('ytick',labelsize=16)\n",
        "plt.scatter(x=test_data['category'], y=test_data['length'] )\n",
        "plt.xlabel('category', fontsize=20  )\n",
        "plt.ylabel('length', fontsize=20  )"
      ],
      "execution_count": 52,
      "outputs": [
        {
          "output_type": "execute_result",
          "data": {
            "text/plain": [
              "Text(0, 0.5, 'length')"
            ]
          },
          "metadata": {},
          "execution_count": 52
        },
        {
          "output_type": "display_data",
          "data": {
            "image/png": "[encoded data removed]",
            "text/plain": [
              "<Figure size 1080x720 with 1 Axes>"
            ]
          },
          "metadata": {}
        }
      ]
    },
    {
      "cell_type": "markdown",
      "metadata": {
        "id": "aGpJscYdPOL_"
      },
      "source": [
        "#Total Number of Unique Sentence in Train Dataset"
      ]
    },
    {
      "cell_type": "code",
      "metadata": {
        "colab": {
          "base_uri": "https://localhost:8080/"
        },
        "id": "7QLrOAvUi2YM",
        "outputId": "8d3d2650-52f4-4610-edc1-1d78881115f5"
      },
      "source": [
        "from collections import Counter\n",
        "result = len(set(Counter(\" \".join(train_data['cleanText'].values.tolist()).split(\" \")).items()))\n",
        "result"
      ],
      "execution_count": 53,
      "outputs": [
        {
          "output_type": "execute_result",
          "data": {
            "text/plain": [
              "464249"
            ]
          },
          "metadata": {},
          "execution_count": 53
        }
      ]
    },
    {
      "cell_type": "markdown",
      "metadata": {
        "id": "4cKhu66OPVbC"
      },
      "source": [
        "#Total Number of Unique Sentence in Test Dataset"
      ]
    },
    {
      "cell_type": "code",
      "metadata": {
        "colab": {
          "base_uri": "https://localhost:8080/"
        },
        "id": "zcBTYPqsPYop",
        "outputId": "67a9ca3c-3278-4cf2-9b36-e2737ac4c31d"
      },
      "source": [
        "result2 = len(set(Counter(\" \".join(test_data['cleanText'].values.tolist()).split(\" \")).items()))\n",
        "result2"
      ],
      "execution_count": 54,
      "outputs": [
        {
          "output_type": "execute_result",
          "data": {
            "text/plain": [
              "463897"
            ]
          },
          "metadata": {},
          "execution_count": 54
        }
      ]
    }
  ]
}