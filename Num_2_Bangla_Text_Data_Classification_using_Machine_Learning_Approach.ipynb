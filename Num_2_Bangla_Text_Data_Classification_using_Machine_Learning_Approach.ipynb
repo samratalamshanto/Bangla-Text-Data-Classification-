{
  "nbformat": 4,
  "nbformat_minor": 0,
  "metadata": {
    "colab": {
      "name": "Num #2 Bangla Text Data Classification using Machine Learning Approach",
      "provenance": [],
      "collapsed_sections": [],
      "authorship_tag": "ABX9TyPTe/8p7+l5geOc2VJXfYQg"
    },
    "kernelspec": {
      "name": "python3",
      "display_name": "Python 3"
    },
    "language_info": {
      "name": "python"
    }
  },
  "cells": [
    {
      "cell_type": "markdown",
      "metadata": {
        "id": "bJ-3SP5bVR6B"
      },
      "source": [
        "#upload kaggle json file\n",
        "\n",
        "\n",
        "\n"
      ]
    },
    {
      "cell_type": "code",
      "metadata": {
        "colab": {
          "resources": {
            "http://localhost:8080/nbextensions/google.colab/files.js": {
              "data": "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",
              "ok": true,
              "headers": [
                [
                  "content-type",
                  "application/javascript"
                ]
              ],
              "status": 200,
              "status_text": ""
            }
          },
          "base_uri": "https://localhost:8080/",
          "height": 262
        },
        "id": "GzuvKL7_MDQQ",
        "outputId": "8331fe6d-49a5-433f-f6eb-db045fa80757"
      },
      "source": [
        "!pip install kaggle\n",
        "from google.colab import files \n",
        "files.upload() # upload json file\n",
        "\n",
        "!mkdir -p ~/.kaggle\n",
        "!cp kaggle.json ~/.kaggle/\n",
        "\n",
        "!chmod 600 ~/.kaggle/kaggle.json"
      ],
      "execution_count": 1,
      "outputs": [
        {
          "output_type": "stream",
          "name": "stdout",
          "text": [
            "Requirement already satisfied: kaggle in /usr/local/lib/python3.7/dist-packages (1.5.12)\n",
            "Requirement already satisfied: python-slugify in /usr/local/lib/python3.7/dist-packages (from kaggle) (5.0.2)\n",
            "Requirement already satisfied: python-dateutil in /usr/local/lib/python3.7/dist-packages (from kaggle) (2.8.2)\n",
            "Requirement already satisfied: six>=1.10 in /usr/local/lib/python3.7/dist-packages (from kaggle) (1.15.0)\n",
            "Requirement already satisfied: requests in /usr/local/lib/python3.7/dist-packages (from kaggle) (2.23.0)\n",
            "Requirement already satisfied: certifi in /usr/local/lib/python3.7/dist-packages (from kaggle) (2021.5.30)\n",
            "Requirement already satisfied: tqdm in /usr/local/lib/python3.7/dist-packages (from kaggle) (4.62.3)\n",
            "Requirement already satisfied: urllib3 in /usr/local/lib/python3.7/dist-packages (from kaggle) (1.24.3)\n",
            "Requirement already satisfied: text-unidecode>=1.3 in /usr/local/lib/python3.7/dist-packages (from python-slugify->kaggle) (1.3)\n",
            "Requirement already satisfied: chardet<4,>=3.0.2 in /usr/local/lib/python3.7/dist-packages (from requests->kaggle) (3.0.4)\n",
            "Requirement already satisfied: idna<3,>=2.5 in /usr/local/lib/python3.7/dist-packages (from requests->kaggle) (2.10)\n"
          ]
        },
        {
          "output_type": "display_data",
          "data": {
            "text/html": [
              "\n",
              "     <input type=\"file\" id=\"files-797a5196-ce78-4a82-9098-ba4794413297\" name=\"files[]\" multiple disabled\n",
              "        style=\"border:none\" />\n",
              "     <output id=\"result-797a5196-ce78-4a82-9098-ba4794413297\">\n",
              "      Upload widget is only available when the cell has been executed in the\n",
              "      current browser session. Please rerun this cell to enable.\n",
              "      </output>\n",
              "      <script src=\"/nbextensions/google.colab/files.js\"></script> "
            ],
            "text/plain": [
              "<IPython.core.display.HTML object>"
            ]
          },
          "metadata": {}
        },
        {
          "output_type": "stream",
          "name": "stdout",
          "text": [
            "Saving kaggle.json to kaggle.json\n"
          ]
        }
      ]
    },
    {
      "cell_type": "code",
      "metadata": {
        "colab": {
          "base_uri": "https://localhost:8080/"
        },
        "id": "d4L337AGMkvi",
        "outputId": "234ccc94-ffc5-48db-842f-1df70b702e3c"
      },
      "source": [
        "!kaggle datasets download -d gakowsher/banglamct7-bangla-multiclass-text-dataset-7-tags"
      ],
      "execution_count": 2,
      "outputs": [
        {
          "output_type": "stream",
          "name": "stdout",
          "text": [
            "Downloading banglamct7-bangla-multiclass-text-dataset-7-tags.zip to /content\n",
            " 99% 331M/335M [00:08<00:00, 64.0MB/s]\n",
            "100% 335M/335M [00:08<00:00, 39.0MB/s]\n"
          ]
        }
      ]
    },
    {
      "cell_type": "code",
      "metadata": {
        "colab": {
          "base_uri": "https://localhost:8080/"
        },
        "id": "5WGJ13tlMvod",
        "outputId": "538a5424-158b-4755-f4b6-f31e6b0ecf8a"
      },
      "source": [
        "from zipfile import ZipFile\n",
        "file_name= \"banglamct7-bangla-multiclass-text-dataset-7-tags.zip\"\n",
        "\n",
        "with ZipFile(file_name ,'r') as zip:\n",
        "  zip.extractall()\n",
        "  print('Done')"
      ],
      "execution_count": 3,
      "outputs": [
        {
          "output_type": "stream",
          "name": "stdout",
          "text": [
            "Done\n"
          ]
        }
      ]
    },
    {
      "cell_type": "markdown",
      "metadata": {
        "id": "LlG_yOGhVW70"
      },
      "source": [
        "#Import Libraries"
      ]
    },
    {
      "cell_type": "code",
      "metadata": {
        "id": "Orx5npMjM3ss"
      },
      "source": [
        "import pandas as pd\n",
        "import numpy as np\n",
        "import os\n",
        "from google.colab import output\n"
      ],
      "execution_count": 4,
      "outputs": []
    },
    {
      "cell_type": "code",
      "metadata": {
        "id": "l6HHHBidJoDy",
        "colab": {
          "base_uri": "https://localhost:8080/"
        },
        "outputId": "c3021819-7470-4856-ff5d-bb3b62be6b34"
      },
      "source": [
        "import re\n",
        "import tensorflow as tf\n",
        "import keras\n",
        "from keras.models import Sequential\n",
        "from keras.layers import LSTM,Dense,Dropout,Activation,Embedding,Flatten,Bidirectional,MaxPooling2D, Conv1D, MaxPooling1D\n",
        "\n",
        "from keras import regularizers\n",
        "from keras.preprocessing.text import Tokenizer\n",
        "from keras.preprocessing.sequence import pad_sequences\n",
        "from keras.utils.np_utils import to_categorical\n",
        "\n",
        "\n",
        "from sklearn.model_selection import train_test_split\n",
        "from sklearn.model_selection import StratifiedKFold"
      ],
      "execution_count": 5,
      "outputs": [
        {
          "output_type": "stream",
          "name": "stdout",
          "text": [
            "Collecting bangla-stemmer\n",
            "  Downloading bangla_stemmer-1.0-py3-none-any.whl (9.1 kB)\n",
            "Installing collected packages: bangla-stemmer\n",
            "Successfully installed bangla-stemmer-1.0\n",
            "Collecting py-bangla-stemmer\n",
            "  Downloading py-bangla-stemmer-0.5.1.tar.gz (16 kB)\n",
            "Building wheels for collected packages: py-bangla-stemmer\n",
            "  Building wheel for py-bangla-stemmer (setup.py) ... \u001b[?25l\u001b[?25hdone\n",
            "  Created wheel for py-bangla-stemmer: filename=py_bangla_stemmer-0.5.1-py3-none-any.whl size=17351 sha256=752a4af1cb70603688dbb7429bb0190d2bda156e9b702593a836e82fb65d4fb6\n",
            "  Stored in directory: /root/.cache/pip/wheels/30/bc/a9/37aed1bed9523e97e10d89ff21a92d82026b88974be8931336\n",
            "Successfully built py-bangla-stemmer\n",
            "Installing collected packages: py-bangla-stemmer\n",
            "Successfully installed py-bangla-stemmer-0.5.1\n"
          ]
        }
      ]
    },
    {
      "cell_type": "markdown",
      "metadata": {
        "id": "JNemV8MBVZwd"
      },
      "source": [
        "#Read dataset"
      ]
    },
    {
      "cell_type": "code",
      "metadata": {
        "id": "hKBAe7ZFNlQe"
      },
      "source": [
        "train_data=pd.read_csv('/content/BanglaMCT7/train.csv')\n",
        "test_data = pd.read_csv('/content/BanglaMCT7/test.csv')"
      ],
      "execution_count": 6,
      "outputs": []
    },
    {
      "cell_type": "code",
      "metadata": {
        "colab": {
          "base_uri": "https://localhost:8080/",
          "height": 206
        },
        "id": "rVLTkp3MNyPR",
        "outputId": "4bcffee6-7d18-4584-bde0-f1def4cfa0cc"
      },
      "source": [
        "train_data.head()"
      ],
      "execution_count": 7,
      "outputs": [
        {
          "output_type": "execute_result",
          "data": {
            "text/html": [
              "<div>\n",
              "<style scoped>\n",
              "    .dataframe tbody tr th:only-of-type {\n",
              "        vertical-align: middle;\n",
              "    }\n",
              "\n",
              "    .dataframe tbody tr th {\n",
              "        vertical-align: top;\n",
              "    }\n",
              "\n",
              "    .dataframe thead th {\n",
              "        text-align: right;\n",
              "    }\n",
              "</style>\n",
              "<table border=\"1\" class=\"dataframe\">\n",
              "  <thead>\n",
              "    <tr style=\"text-align: right;\">\n",
              "      <th></th>\n",
              "      <th>category</th>\n",
              "      <th>text</th>\n",
              "      <th>cleanText</th>\n",
              "    </tr>\n",
              "  </thead>\n",
              "  <tbody>\n",
              "    <tr>\n",
              "      <th>0</th>\n",
              "      <td>economy</td>\n",
              "      <td>বাংলাদেশে সফররত বিশ্ব বাণিজ্য সংস্থা (ডব্লিউট...</td>\n",
              "      <td>বাংলাদেশে    সফররত    বিশ্ব    বাণিজ্য    সং...</td>\n",
              "    </tr>\n",
              "    <tr>\n",
              "      <th>1</th>\n",
              "      <td>sports</td>\n",
              "      <td>ইউরোপিয়ান ফুটবলে আজ ঝড় বয়ে যাচ্ছে। একদিকে সংবা...</td>\n",
              "      <td>ইউরোপিয়ান    ফুটবলে    বয়ে    একদিকে    সংবা...</td>\n",
              "    </tr>\n",
              "    <tr>\n",
              "      <th>2</th>\n",
              "      <td>international</td>\n",
              "      <td>বিজেপির নেতৃত্বে ভারতের উত্তর প্রদেশ থেকে শুরু...</td>\n",
              "      <td>বিজেপির    নেতৃত্বে    ভারতের    উত্তর    প্...</td>\n",
              "    </tr>\n",
              "    <tr>\n",
              "      <th>3</th>\n",
              "      <td>state</td>\n",
              "      <td>নারায়ণগঞ্জের সোনারগাঁ উপজেলার একটি সরকারি প্র...</td>\n",
              "      <td>নারায়ণগঞ্জের    সোনারগাঁ    উপজেলার    সরকা...</td>\n",
              "    </tr>\n",
              "    <tr>\n",
              "      <th>4</th>\n",
              "      <td>sports</td>\n",
              "      <td>‘ছাই থেকে ছাই, ধুলো থেকে ধুলো...’ আধ্যাত্মিক ক...</td>\n",
              "      <td>ছাই    ছাই    ধুলো    ধুলো    আধ্যাত্মিক    ...</td>\n",
              "    </tr>\n",
              "  </tbody>\n",
              "</table>\n",
              "</div>"
            ],
            "text/plain": [
              "        category  ...                                          cleanText\n",
              "0        economy  ...    বাংলাদেশে    সফররত    বিশ্ব    বাণিজ্য    সং...\n",
              "1         sports  ...    ইউরোপিয়ান    ফুটবলে    বয়ে    একদিকে    সংবা...\n",
              "2  international  ...    বিজেপির    নেতৃত্বে    ভারতের    উত্তর    প্...\n",
              "3          state  ...    নারায়ণগঞ্জের    সোনারগাঁ    উপজেলার    সরকা...\n",
              "4         sports  ...    ছাই    ছাই    ধুলো    ধুলো    আধ্যাত্মিক    ...\n",
              "\n",
              "[5 rows x 3 columns]"
            ]
          },
          "metadata": {},
          "execution_count": 7
        }
      ]
    },
    {
      "cell_type": "code",
      "metadata": {
        "colab": {
          "base_uri": "https://localhost:8080/",
          "height": 104
        },
        "id": "yXKDRFACN2R7",
        "outputId": "e09d23cc-1e9a-44c7-9a91-fd10a3af10b8"
      },
      "source": [
        "train_data.text.iloc[5]"
      ],
      "execution_count": 8,
      "outputs": [
        {
          "output_type": "execute_result",
          "data": {
            "application/vnd.google.colaboratory.intrinsic+json": {
              "type": "string"
            },
            "text/plain": [
              "'খুদে ব্লগ লেখার জনপ্রিয় সাইট টুইটার এখন বাংলা ভাষায় দেখা যাবে। টুইটারের মূল ওয়েবসাইটের পাশাপাশি মোবাইল ওয়েবসাইট(mobile.twitter.com), অ্যান্ড্রয়েড ও আইওএস অ্যাপ্লিকেশনে (অ্যাপ) বাংলা সমর্থনের সুবিধা চালু করেছে। এর ফলে সম্পূর্ণ বাংলায় বার্তা (টুইট) লেখা ও পড়া যাবে। বাংলা ছাড়াও সম্প্রতি ভিয়েতনামিস, চেক, রোমানিয়ান ও ইউক্রেনিয়ান ভাষা যুক্ত হয়েছে টুইটারে। বিভিন্ন ভাষাভাষীর স্বেচ্ছাসেবকদের অনুবাদ করা এসব ভাষা এর আগে শুধু অনুবাদকাজের সঙ্গে যুক্ত স্বেচ্ছাসেবকদের জন্য উন্মুক্ত ছিল।গতকাল মঙ্গলবার থেকে এসব ভাষার সুবিধা সাধারণ ব্যবহারকারীদের জন্য উন্মুক্ত করা হয়েছে। বাংলা কিংবা অন্যান্য ভাষা নির্বাচন করতে টুইটারের সেটিংস থেকে ভাষা অপশনে গিয়ে পছন্দের ভাষা বেছে নিতে হবে।চাইলে যে কেউ টুইটারের এ ভাষা অনুবাদেও যুক্ত হতে পারেন। এতে নির্দিষ্ট শব্দ কিংবা লাইনের সঠিক অর্থ লিখে জমা দেওয়া যাবে। সেখান থেকে নির্বাচিত এবং সঞ্চালক কর্তৃক পরীক্ষিত হওয়ার পর সেটি মূল টুইটারে বাংলা ভাষায় যুক্ত হবে। আগ্রহীরা (translate.twitter.com) ঠিকানায় গিয়ে বাংলা অনুবাদে যুক্ত হতে পারেন।উল্লেখ্য, ২০০৬ সালে মাত্র ১৪০ শব্দের মধ্যে খুদে ব্লগ লেখার সুবিধা নিয়ে চালু হয় টুইটার। এরই মধ্যে গত বছরের প্রকাশিত তথ্য অনুযায়ী এ ওয়েবসাইটে নিবন্ধিত সদস্যের সংখ্যা ৫০ কোটিরও বেশি, যাঁরা প্রতিদিন ৩৪ কোটি টুইট প্রকাশ করেন। প্রতি মাসে নিয়মিত টুইটার ব্যবহার করেন ২৪ কোটিরও বেশি ব্যবহারকারী। বর্তমানে ৪৪টি ভাষায় টুইটার ব্যবহার করা যায়, যার মধ্যে বেশ কয়েকটি ভাষা পরীক্ষামূলক পর্যায়ে রয়েছে। তবে বাংলা পূর্ণাঙ্গভাবেই চালু হয়েছে। যাঁরা অনুবাদে যুক্ত হয়ে কাজ করছেন, এমন ব্যবহারকারীরা নামের পাশে পাবেন বিশেষ ‘ট্রান্সলেটর’ চিহ্ন দিয়ে দেওয়া টুইটার।—টুইটার ব্লগ অবলম্বনে নুরুন্নবী চৌধুরী'"
            ]
          },
          "metadata": {},
          "execution_count": 8
        }
      ]
    },
    {
      "cell_type": "code",
      "metadata": {
        "colab": {
          "base_uri": "https://localhost:8080/",
          "height": 104
        },
        "id": "S_cLU6sbN7QU",
        "outputId": "03d025a3-34e3-4ecb-d92a-191f187a0c8c"
      },
      "source": [
        "train_data.cleanText.iloc[5]"
      ],
      "execution_count": 9,
      "outputs": [
        {
          "output_type": "execute_result",
          "data": {
            "application/vnd.google.colaboratory.intrinsic+json": {
              "type": "string"
            },
            "text/plain": [
              "'  খুদে    ব্লগ    লেখার    জনপ্রিয়    সাইট    টুইটার    বাংলা    ভাষায়    টুইটারের    মূল    ওয়েবসাইটের    পাশাপাশি    মোবাইল    ওয়েবসাইট    অ্যান্ড্রয়েড    আইওএস    অ্যাপ্লিকেশনে    অ্যাপ    বাংলা    সমর্থনের    সুবিধা    চালু    সম্পূর্ণ    বাংলায়    বার্তা    টুইট    লেখা    পড়া    বাংলা    ছাড়াও    ভিয়েতনামিস    চেক    রোমানিয়ান    ইউক্রেনিয়ান    ভাষা    যুক্ত    টুইটারে    বিভিন্ন    ভাষাভাষীর    স্বেচ্ছাসেবকদের    অনুবাদ    এসব    ভাষা    অনুবাদকাজের    যুক্ত    স্বেচ্ছাসেবকদের    উন্মুক্ত    গতকাল    মঙ্গলবার    এসব    ভাষার    সুবিধা    সাধারণ    ব্যবহারকারীদের    উন্মুক্ত    বাংলা    অন্যান্য    ভাষা    নির্বাচন    টুইটারের    সেটিংস    ভাষা    অপশনে    পছন্দের    ভাষা    বেছে    চাইলে    টুইটারের    ভাষা    অনুবাদেও    যুক্ত    নির্দিষ্ট    শব্দ    লাইনের    সঠিক    অর্থ    লিখে    জমা    নির্বাচিত    সঞ্চালক    কর্তৃক    পরীক্ষিত    মূল    টুইটারে    বাংলা    ভাষায়    যুক্ত    আগ্রহীরা    ঠিকানায়    বাংলা    অনুবাদে    যুক্ত    উল্লেখ্য    সালে    শব্দের    খুদে    ব্লগ    লেখার    সুবিধা    চালু    টুইটার    এরই    বছরের    প্রকাশিত    তথ্য    ওয়েবসাইটে    নিবন্ধিত    সদস্যের    সংখ্যা    কোটিরও    বেশি    প্রতিদিন    কোটি    টুইট    প্রকাশ    মাসে    নিয়মিত    টুইটার    কোটিরও    বেশি    ব্যবহারকারী    বর্তমানে    ভাষায়    টুইটার    ভাষা    পরীক্ষামূলক    পর্যায়ে    বাংলা    পূর্ণাঙ্গভাবেই    চালু    অনুবাদে    যুক্ত    কাজ    ব্যবহারকারীরা    নামের    পাশে    পাবেন    ট্রান্সলেটর    চিহ্ন    টুইটার    টুইটার    ব্লগ    অবলম্বনে    নুরুন্নবী    চৌধুরী  '"
            ]
          },
          "metadata": {},
          "execution_count": 9
        }
      ]
    },
    {
      "cell_type": "code",
      "metadata": {
        "colab": {
          "base_uri": "https://localhost:8080/",
          "height": 206
        },
        "id": "4Y6zyFJpOGMc",
        "outputId": "52f4f04f-46f6-4ae4-e015-2880451b5c43"
      },
      "source": [
        "test_data.head()"
      ],
      "execution_count": 10,
      "outputs": [
        {
          "output_type": "execute_result",
          "data": {
            "text/html": [
              "<div>\n",
              "<style scoped>\n",
              "    .dataframe tbody tr th:only-of-type {\n",
              "        vertical-align: middle;\n",
              "    }\n",
              "\n",
              "    .dataframe tbody tr th {\n",
              "        vertical-align: top;\n",
              "    }\n",
              "\n",
              "    .dataframe thead th {\n",
              "        text-align: right;\n",
              "    }\n",
              "</style>\n",
              "<table border=\"1\" class=\"dataframe\">\n",
              "  <thead>\n",
              "    <tr style=\"text-align: right;\">\n",
              "      <th></th>\n",
              "      <th>category</th>\n",
              "      <th>text</th>\n",
              "      <th>cleanText</th>\n",
              "    </tr>\n",
              "  </thead>\n",
              "  <tbody>\n",
              "    <tr>\n",
              "      <th>0</th>\n",
              "      <td>education</td>\n",
              "      <td>অধ্যায়-২প্রিয় পরীক্ষার্থী, আজ তথ্য ও যোগাযোগ প...</td>\n",
              "      <td>অধ্যায়    প্রিয়    পরীক্ষার্থী    তথ্য    যো...</td>\n",
              "    </tr>\n",
              "    <tr>\n",
              "      <th>1</th>\n",
              "      <td>sports</td>\n",
              "      <td>স্পিন, স্পিন, স্পিন। লর্ডসে ইয়াসির শাহ্‌র লেগ ...</td>\n",
              "      <td>স্পিন    স্পিন    স্পিন    লর্ডসে    ইয়াসির ...</td>\n",
              "    </tr>\n",
              "    <tr>\n",
              "      <th>2</th>\n",
              "      <td>international</td>\n",
              "      <td>সিরিয়ার উত্তর-পশ্চিমাঞ্চলে গতকাল রোববার বিমান...</td>\n",
              "      <td>সিরিয়ার    উত্তর    পশ্চিমাঞ্চলে    গতকাল  ...</td>\n",
              "    </tr>\n",
              "    <tr>\n",
              "      <th>3</th>\n",
              "      <td>international</td>\n",
              "      <td>দক্ষিণ আফ্রিকার কেপটাউন বিশ্ববিদ্যালয়ের (ইউসিট...</td>\n",
              "      <td>দক্ষিণ    আফ্রিকার    কেপটাউন    বিশ্ববিদ্যা...</td>\n",
              "    </tr>\n",
              "    <tr>\n",
              "      <th>4</th>\n",
              "      <td>technology</td>\n",
              "      <td>সহজে ডিজিটাল আর্থিক সেবা দিতে অ্যাপ ও ডিজিটাল ...</td>\n",
              "      <td>সহজে    ডিজিটাল    আর্থিক    সেবা    অ্যাপ  ...</td>\n",
              "    </tr>\n",
              "  </tbody>\n",
              "</table>\n",
              "</div>"
            ],
            "text/plain": [
              "        category  ...                                          cleanText\n",
              "0      education  ...    অধ্যায়    প্রিয়    পরীক্ষার্থী    তথ্য    যো...\n",
              "1         sports  ...    স্পিন    স্পিন    স্পিন    লর্ডসে    ইয়াসির ...\n",
              "2  international  ...    সিরিয়ার    উত্তর    পশ্চিমাঞ্চলে    গতকাল  ...\n",
              "3  international  ...    দক্ষিণ    আফ্রিকার    কেপটাউন    বিশ্ববিদ্যা...\n",
              "4     technology  ...    সহজে    ডিজিটাল    আর্থিক    সেবা    অ্যাপ  ...\n",
              "\n",
              "[5 rows x 3 columns]"
            ]
          },
          "metadata": {},
          "execution_count": 10
        }
      ]
    },
    {
      "cell_type": "code",
      "metadata": {
        "colab": {
          "base_uri": "https://localhost:8080/",
          "height": 424
        },
        "id": "yxyu7t6BOUM8",
        "outputId": "d408c36e-7ff1-444a-f0aa-37df4079c08d"
      },
      "source": [
        "train_data"
      ],
      "execution_count": 11,
      "outputs": [
        {
          "output_type": "execute_result",
          "data": {
            "text/html": [
              "<div>\n",
              "<style scoped>\n",
              "    .dataframe tbody tr th:only-of-type {\n",
              "        vertical-align: middle;\n",
              "    }\n",
              "\n",
              "    .dataframe tbody tr th {\n",
              "        vertical-align: top;\n",
              "    }\n",
              "\n",
              "    .dataframe thead th {\n",
              "        text-align: right;\n",
              "    }\n",
              "</style>\n",
              "<table border=\"1\" class=\"dataframe\">\n",
              "  <thead>\n",
              "    <tr style=\"text-align: right;\">\n",
              "      <th></th>\n",
              "      <th>category</th>\n",
              "      <th>text</th>\n",
              "      <th>cleanText</th>\n",
              "    </tr>\n",
              "  </thead>\n",
              "  <tbody>\n",
              "    <tr>\n",
              "      <th>0</th>\n",
              "      <td>economy</td>\n",
              "      <td>বাংলাদেশে সফররত বিশ্ব বাণিজ্য সংস্থা (ডব্লিউট...</td>\n",
              "      <td>বাংলাদেশে    সফররত    বিশ্ব    বাণিজ্য    সং...</td>\n",
              "    </tr>\n",
              "    <tr>\n",
              "      <th>1</th>\n",
              "      <td>sports</td>\n",
              "      <td>ইউরোপিয়ান ফুটবলে আজ ঝড় বয়ে যাচ্ছে। একদিকে সংবা...</td>\n",
              "      <td>ইউরোপিয়ান    ফুটবলে    বয়ে    একদিকে    সংবা...</td>\n",
              "    </tr>\n",
              "    <tr>\n",
              "      <th>2</th>\n",
              "      <td>international</td>\n",
              "      <td>বিজেপির নেতৃত্বে ভারতের উত্তর প্রদেশ থেকে শুরু...</td>\n",
              "      <td>বিজেপির    নেতৃত্বে    ভারতের    উত্তর    প্...</td>\n",
              "    </tr>\n",
              "    <tr>\n",
              "      <th>3</th>\n",
              "      <td>state</td>\n",
              "      <td>নারায়ণগঞ্জের সোনারগাঁ উপজেলার একটি সরকারি প্র...</td>\n",
              "      <td>নারায়ণগঞ্জের    সোনারগাঁ    উপজেলার    সরকা...</td>\n",
              "    </tr>\n",
              "    <tr>\n",
              "      <th>4</th>\n",
              "      <td>sports</td>\n",
              "      <td>‘ছাই থেকে ছাই, ধুলো থেকে ধুলো...’ আধ্যাত্মিক ক...</td>\n",
              "      <td>ছাই    ছাই    ধুলো    ধুলো    আধ্যাত্মিক    ...</td>\n",
              "    </tr>\n",
              "    <tr>\n",
              "      <th>...</th>\n",
              "      <td>...</td>\n",
              "      <td>...</td>\n",
              "      <td>...</td>\n",
              "    </tr>\n",
              "    <tr>\n",
              "      <th>98878</th>\n",
              "      <td>education</td>\n",
              "      <td>সহকারী অধ্যাপক  টিচার্স ট্রেনিং কলেজ (মহিলা)...</td>\n",
              "      <td>সহকারী    অধ্যাপক    টিচার্স    ট্রেনিং    ক...</td>\n",
              "    </tr>\n",
              "    <tr>\n",
              "      <th>98879</th>\n",
              "      <td>entertainment</td>\n",
              "      <td>অক্টোবরের ১১ তারিখে ৭৫ বছর পূর্ণ করবেন অমিতাভ ...</td>\n",
              "      <td>অক্টোবরের    তারিখে    বছর    পূর্ণ    অমিতা...</td>\n",
              "    </tr>\n",
              "    <tr>\n",
              "      <th>98880</th>\n",
              "      <td>technology</td>\n",
              "      <td>কাজী নাঈম আল রশিদ। সফটওয়্যার প্রকৌশলী। কাজ করে...</td>\n",
              "      <td>কাজী    নাঈম    রশিদ    সফটওয়্যার    প্রকৌশল...</td>\n",
              "    </tr>\n",
              "    <tr>\n",
              "      <th>98881</th>\n",
              "      <td>technology</td>\n",
              "      <td>ইয়াহুকে মার্কিন টেলিকম প্রতিষ্ঠান ভেরাইজন কিনে...</td>\n",
              "      <td>ইয়াহুকে    মার্কিন    টেলিকম    প্রতিষ্ঠান  ...</td>\n",
              "    </tr>\n",
              "    <tr>\n",
              "      <th>98882</th>\n",
              "      <td>education</td>\n",
              "      <td>অধ্যায়-১১প্রিয় শিক্ষার্থী, আজ ফিন্যান্স ও ব্যা...</td>\n",
              "      <td>অধ্যায়    প্রিয়    শিক্ষার্থী    ফিন্যান্স  ...</td>\n",
              "    </tr>\n",
              "  </tbody>\n",
              "</table>\n",
              "<p>98883 rows × 3 columns</p>\n",
              "</div>"
            ],
            "text/plain": [
              "            category  ...                                          cleanText\n",
              "0            economy  ...    বাংলাদেশে    সফররত    বিশ্ব    বাণিজ্য    সং...\n",
              "1             sports  ...    ইউরোপিয়ান    ফুটবলে    বয়ে    একদিকে    সংবা...\n",
              "2      international  ...    বিজেপির    নেতৃত্বে    ভারতের    উত্তর    প্...\n",
              "3              state  ...    নারায়ণগঞ্জের    সোনারগাঁ    উপজেলার    সরকা...\n",
              "4             sports  ...    ছাই    ছাই    ধুলো    ধুলো    আধ্যাত্মিক    ...\n",
              "...              ...  ...                                                ...\n",
              "98878      education  ...    সহকারী    অধ্যাপক    টিচার্স    ট্রেনিং    ক...\n",
              "98879  entertainment  ...    অক্টোবরের    তারিখে    বছর    পূর্ণ    অমিতা...\n",
              "98880     technology  ...    কাজী    নাঈম    রশিদ    সফটওয়্যার    প্রকৌশল...\n",
              "98881     technology  ...    ইয়াহুকে    মার্কিন    টেলিকম    প্রতিষ্ঠান  ...\n",
              "98882      education  ...    অধ্যায়    প্রিয়    শিক্ষার্থী    ফিন্যান্স  ...\n",
              "\n",
              "[98883 rows x 3 columns]"
            ]
          },
          "metadata": {},
          "execution_count": 11
        }
      ]
    },
    {
      "cell_type": "code",
      "metadata": {
        "colab": {
          "base_uri": "https://localhost:8080/",
          "height": 424
        },
        "id": "1-n5PJRfOaO8",
        "outputId": "0399aa4a-8a02-4b79-fbf0-41df79ea34e3"
      },
      "source": [
        "test_data"
      ],
      "execution_count": 12,
      "outputs": [
        {
          "output_type": "execute_result",
          "data": {
            "text/html": [
              "<div>\n",
              "<style scoped>\n",
              "    .dataframe tbody tr th:only-of-type {\n",
              "        vertical-align: middle;\n",
              "    }\n",
              "\n",
              "    .dataframe tbody tr th {\n",
              "        vertical-align: top;\n",
              "    }\n",
              "\n",
              "    .dataframe thead th {\n",
              "        text-align: right;\n",
              "    }\n",
              "</style>\n",
              "<table border=\"1\" class=\"dataframe\">\n",
              "  <thead>\n",
              "    <tr style=\"text-align: right;\">\n",
              "      <th></th>\n",
              "      <th>category</th>\n",
              "      <th>text</th>\n",
              "      <th>cleanText</th>\n",
              "    </tr>\n",
              "  </thead>\n",
              "  <tbody>\n",
              "    <tr>\n",
              "      <th>0</th>\n",
              "      <td>education</td>\n",
              "      <td>অধ্যায়-২প্রিয় পরীক্ষার্থী, আজ তথ্য ও যোগাযোগ প...</td>\n",
              "      <td>অধ্যায়    প্রিয়    পরীক্ষার্থী    তথ্য    যো...</td>\n",
              "    </tr>\n",
              "    <tr>\n",
              "      <th>1</th>\n",
              "      <td>sports</td>\n",
              "      <td>স্পিন, স্পিন, স্পিন। লর্ডসে ইয়াসির শাহ্‌র লেগ ...</td>\n",
              "      <td>স্পিন    স্পিন    স্পিন    লর্ডসে    ইয়াসির ...</td>\n",
              "    </tr>\n",
              "    <tr>\n",
              "      <th>2</th>\n",
              "      <td>international</td>\n",
              "      <td>সিরিয়ার উত্তর-পশ্চিমাঞ্চলে গতকাল রোববার বিমান...</td>\n",
              "      <td>সিরিয়ার    উত্তর    পশ্চিমাঞ্চলে    গতকাল  ...</td>\n",
              "    </tr>\n",
              "    <tr>\n",
              "      <th>3</th>\n",
              "      <td>international</td>\n",
              "      <td>দক্ষিণ আফ্রিকার কেপটাউন বিশ্ববিদ্যালয়ের (ইউসিট...</td>\n",
              "      <td>দক্ষিণ    আফ্রিকার    কেপটাউন    বিশ্ববিদ্যা...</td>\n",
              "    </tr>\n",
              "    <tr>\n",
              "      <th>4</th>\n",
              "      <td>technology</td>\n",
              "      <td>সহজে ডিজিটাল আর্থিক সেবা দিতে অ্যাপ ও ডিজিটাল ...</td>\n",
              "      <td>সহজে    ডিজিটাল    আর্থিক    সেবা    অ্যাপ  ...</td>\n",
              "    </tr>\n",
              "    <tr>\n",
              "      <th>...</th>\n",
              "      <td>...</td>\n",
              "      <td>...</td>\n",
              "      <td>...</td>\n",
              "    </tr>\n",
              "    <tr>\n",
              "      <th>98879</th>\n",
              "      <td>sports</td>\n",
              "      <td>১৯৫৯ সালে ইউরোপিয়ান ক্লাব কাপে জাতীয় দল পাঠান...</td>\n",
              "      <td>সালে    ইউরোপিয়ান    ক্লাব    কাপে    জাতীয়...</td>\n",
              "    </tr>\n",
              "    <tr>\n",
              "      <th>98880</th>\n",
              "      <td>entertainment</td>\n",
              "      <td>গানের দল সহজিয়ার প্রথম অ্যালবাম ‘রঙমিস্ত্রী’র ...</td>\n",
              "      <td>গানের    সহজিয়ার    প্রথম    অ্যালবাম    রঙম...</td>\n",
              "    </tr>\n",
              "    <tr>\n",
              "      <th>98881</th>\n",
              "      <td>international</td>\n",
              "      <td>ফেসবুকের ৮১ হাজার ব্যবহারকারীর তথ্য চুরি করে স...</td>\n",
              "      <td>ফেসবুকের    হাজার    ব্যবহারকারীর    তথ্য   ...</td>\n",
              "    </tr>\n",
              "    <tr>\n",
              "      <th>98882</th>\n",
              "      <td>economy</td>\n",
              "      <td>পেট্রোল পাম্পে তেল বা সিএনজির বিল বিকাশের মাধ...</td>\n",
              "      <td>পেট্রোল    পাম্পে    তেল    সিএনজির    বিল  ...</td>\n",
              "    </tr>\n",
              "    <tr>\n",
              "      <th>98883</th>\n",
              "      <td>economy</td>\n",
              "      <td>বছর শেষে ঢাকা স্টক এক্সচেঞ্জের (ডিএসই) দুটি সূ...</td>\n",
              "      <td>বছর    শেষে    ঢাকা    স্টক    এক্সচেঞ্জের  ...</td>\n",
              "    </tr>\n",
              "  </tbody>\n",
              "</table>\n",
              "<p>98884 rows × 3 columns</p>\n",
              "</div>"
            ],
            "text/plain": [
              "            category  ...                                          cleanText\n",
              "0          education  ...    অধ্যায়    প্রিয়    পরীক্ষার্থী    তথ্য    যো...\n",
              "1             sports  ...    স্পিন    স্পিন    স্পিন    লর্ডসে    ইয়াসির ...\n",
              "2      international  ...    সিরিয়ার    উত্তর    পশ্চিমাঞ্চলে    গতকাল  ...\n",
              "3      international  ...    দক্ষিণ    আফ্রিকার    কেপটাউন    বিশ্ববিদ্যা...\n",
              "4         technology  ...    সহজে    ডিজিটাল    আর্থিক    সেবা    অ্যাপ  ...\n",
              "...              ...  ...                                                ...\n",
              "98879         sports  ...    সালে    ইউরোপিয়ান    ক্লাব    কাপে    জাতীয়...\n",
              "98880  entertainment  ...    গানের    সহজিয়ার    প্রথম    অ্যালবাম    রঙম...\n",
              "98881  international  ...    ফেসবুকের    হাজার    ব্যবহারকারীর    তথ্য   ...\n",
              "98882        economy  ...    পেট্রোল    পাম্পে    তেল    সিএনজির    বিল  ...\n",
              "98883        economy  ...    বছর    শেষে    ঢাকা    স্টক    এক্সচেঞ্জের  ...\n",
              "\n",
              "[98884 rows x 3 columns]"
            ]
          },
          "metadata": {},
          "execution_count": 12
        }
      ]
    },
    {
      "cell_type": "code",
      "metadata": {
        "id": "6SYNv4ISObSk",
        "colab": {
          "base_uri": "https://localhost:8080/"
        },
        "outputId": "ab485e9f-9a64-42b7-86ef-36bf72f4d5e6"
      },
      "source": [
        "train_data.info()"
      ],
      "execution_count": 13,
      "outputs": [
        {
          "output_type": "stream",
          "name": "stdout",
          "text": [
            "<class 'pandas.core.frame.DataFrame'>\n",
            "RangeIndex: 98883 entries, 0 to 98882\n",
            "Data columns (total 3 columns):\n",
            " #   Column     Non-Null Count  Dtype \n",
            "---  ------     --------------  ----- \n",
            " 0   category   98883 non-null  object\n",
            " 1   text       98883 non-null  object\n",
            " 2   cleanText  98883 non-null  object\n",
            "dtypes: object(3)\n",
            "memory usage: 2.3+ MB\n"
          ]
        }
      ]
    },
    {
      "cell_type": "code",
      "metadata": {
        "colab": {
          "base_uri": "https://localhost:8080/"
        },
        "id": "Ud44bF3a1fZK",
        "outputId": "1dbdafee-8433-4e15-87ba-c66ce419d4ef"
      },
      "source": [
        "test_data.info()"
      ],
      "execution_count": 14,
      "outputs": [
        {
          "output_type": "stream",
          "name": "stdout",
          "text": [
            "<class 'pandas.core.frame.DataFrame'>\n",
            "RangeIndex: 98884 entries, 0 to 98883\n",
            "Data columns (total 3 columns):\n",
            " #   Column     Non-Null Count  Dtype \n",
            "---  ------     --------------  ----- \n",
            " 0   category   98884 non-null  object\n",
            " 1   text       98884 non-null  object\n",
            " 2   cleanText  98884 non-null  object\n",
            "dtypes: object(3)\n",
            "memory usage: 2.3+ MB\n"
          ]
        }
      ]
    },
    {
      "cell_type": "code",
      "metadata": {
        "colab": {
          "base_uri": "https://localhost:8080/"
        },
        "id": "49tQX4EM1kAx",
        "outputId": "44c27d2e-eba4-4eeb-ca57-b875539b3bb9"
      },
      "source": [
        "train_data.category.value_counts()"
      ],
      "execution_count": 15,
      "outputs": [
        {
          "output_type": "execute_result",
          "data": {
            "text/plain": [
              "sports           15672\n",
              "international    15540\n",
              "state            15362\n",
              "entertainment    15198\n",
              "economy          14430\n",
              "education        12674\n",
              "technology       10007\n",
              "Name: category, dtype: int64"
            ]
          },
          "metadata": {},
          "execution_count": 15
        }
      ]
    },
    {
      "cell_type": "code",
      "metadata": {
        "colab": {
          "base_uri": "https://localhost:8080/"
        },
        "id": "ccw8B1az1voQ",
        "outputId": "7d84f478-4d5b-43ee-ef95-20495dd230e0"
      },
      "source": [
        "test_data.category.value_counts()"
      ],
      "execution_count": 16,
      "outputs": [
        {
          "output_type": "execute_result",
          "data": {
            "text/plain": [
              "sports           15883\n",
              "international    15314\n",
              "entertainment    15261\n",
              "state            15183\n",
              "economy          14488\n",
              "education        12818\n",
              "technology        9937\n",
              "Name: category, dtype: int64"
            ]
          },
          "metadata": {},
          "execution_count": 16
        }
      ]
    },
    {
      "cell_type": "code",
      "metadata": {
        "colab": {
          "base_uri": "https://localhost:8080/"
        },
        "id": "xhnA4R7z11mh",
        "outputId": "d5e98b72-8c72-4679-9b11-847e0874f24e"
      },
      "source": [
        "print(train_data.isna().sum())"
      ],
      "execution_count": 17,
      "outputs": [
        {
          "output_type": "stream",
          "name": "stdout",
          "text": [
            "category     0\n",
            "text         0\n",
            "cleanText    0\n",
            "dtype: int64\n"
          ]
        }
      ]
    },
    {
      "cell_type": "code",
      "metadata": {
        "colab": {
          "base_uri": "https://localhost:8080/"
        },
        "id": "krSzl8QuJU20",
        "outputId": "a3847861-eafa-40d1-d44e-5a167aa2dd0f"
      },
      "source": [
        "print(test_data.isna().sum())"
      ],
      "execution_count": 18,
      "outputs": [
        {
          "output_type": "stream",
          "name": "stdout",
          "text": [
            "category     0\n",
            "text         0\n",
            "cleanText    0\n",
            "dtype: int64\n"
          ]
        }
      ]
    },
    {
      "cell_type": "code",
      "metadata": {
        "colab": {
          "base_uri": "https://localhost:8080/"
        },
        "id": "-gXW84Rpqzl6",
        "outputId": "4d47e7ed-a0e8-4e09-c5bb-2a687bbc049e"
      },
      "source": [
        "train_data['category'].unique()"
      ],
      "execution_count": 19,
      "outputs": [
        {
          "output_type": "execute_result",
          "data": {
            "text/plain": [
              "array(['economy', 'sports', 'international', 'state', 'technology',\n",
              "       'entertainment', 'education'], dtype=object)"
            ]
          },
          "metadata": {},
          "execution_count": 19
        }
      ]
    },
    {
      "cell_type": "code",
      "metadata": {
        "colab": {
          "base_uri": "https://localhost:8080/",
          "height": 206
        },
        "id": "1oQcxbYjiplW",
        "outputId": "f6839954-cf6f-4c9f-9dbc-405c5e3900ad"
      },
      "source": [
        "train_data.head()"
      ],
      "execution_count": 20,
      "outputs": [
        {
          "output_type": "execute_result",
          "data": {
            "text/html": [
              "<div>\n",
              "<style scoped>\n",
              "    .dataframe tbody tr th:only-of-type {\n",
              "        vertical-align: middle;\n",
              "    }\n",
              "\n",
              "    .dataframe tbody tr th {\n",
              "        vertical-align: top;\n",
              "    }\n",
              "\n",
              "    .dataframe thead th {\n",
              "        text-align: right;\n",
              "    }\n",
              "</style>\n",
              "<table border=\"1\" class=\"dataframe\">\n",
              "  <thead>\n",
              "    <tr style=\"text-align: right;\">\n",
              "      <th></th>\n",
              "      <th>category</th>\n",
              "      <th>text</th>\n",
              "      <th>cleanText</th>\n",
              "    </tr>\n",
              "  </thead>\n",
              "  <tbody>\n",
              "    <tr>\n",
              "      <th>0</th>\n",
              "      <td>economy</td>\n",
              "      <td>বাংলাদেশে সফররত বিশ্ব বাণিজ্য সংস্থা (ডব্লিউট...</td>\n",
              "      <td>বাংলাদেশে    সফররত    বিশ্ব    বাণিজ্য    সং...</td>\n",
              "    </tr>\n",
              "    <tr>\n",
              "      <th>1</th>\n",
              "      <td>sports</td>\n",
              "      <td>ইউরোপিয়ান ফুটবলে আজ ঝড় বয়ে যাচ্ছে। একদিকে সংবা...</td>\n",
              "      <td>ইউরোপিয়ান    ফুটবলে    বয়ে    একদিকে    সংবা...</td>\n",
              "    </tr>\n",
              "    <tr>\n",
              "      <th>2</th>\n",
              "      <td>international</td>\n",
              "      <td>বিজেপির নেতৃত্বে ভারতের উত্তর প্রদেশ থেকে শুরু...</td>\n",
              "      <td>বিজেপির    নেতৃত্বে    ভারতের    উত্তর    প্...</td>\n",
              "    </tr>\n",
              "    <tr>\n",
              "      <th>3</th>\n",
              "      <td>state</td>\n",
              "      <td>নারায়ণগঞ্জের সোনারগাঁ উপজেলার একটি সরকারি প্র...</td>\n",
              "      <td>নারায়ণগঞ্জের    সোনারগাঁ    উপজেলার    সরকা...</td>\n",
              "    </tr>\n",
              "    <tr>\n",
              "      <th>4</th>\n",
              "      <td>sports</td>\n",
              "      <td>‘ছাই থেকে ছাই, ধুলো থেকে ধুলো...’ আধ্যাত্মিক ক...</td>\n",
              "      <td>ছাই    ছাই    ধুলো    ধুলো    আধ্যাত্মিক    ...</td>\n",
              "    </tr>\n",
              "  </tbody>\n",
              "</table>\n",
              "</div>"
            ],
            "text/plain": [
              "        category  ...                                          cleanText\n",
              "0        economy  ...    বাংলাদেশে    সফররত    বিশ্ব    বাণিজ্য    সং...\n",
              "1         sports  ...    ইউরোপিয়ান    ফুটবলে    বয়ে    একদিকে    সংবা...\n",
              "2  international  ...    বিজেপির    নেতৃত্বে    ভারতের    উত্তর    প্...\n",
              "3          state  ...    নারায়ণগঞ্জের    সোনারগাঁ    উপজেলার    সরকা...\n",
              "4         sports  ...    ছাই    ছাই    ধুলো    ধুলো    আধ্যাত্মিক    ...\n",
              "\n",
              "[5 rows x 3 columns]"
            ]
          },
          "metadata": {},
          "execution_count": 20
        }
      ]
    },
    {
      "cell_type": "markdown",
      "metadata": {
        "id": "QQjkbYG5Vej1"
      },
      "source": [
        "#Data Processing:"
      ]
    },
    {
      "cell_type": "code",
      "metadata": {
        "colab": {
          "base_uri": "https://localhost:8080/"
        },
        "id": "tEAppY0rhweU",
        "outputId": "fad225df-3f98-49fa-a10f-d4b3580ae7c0"
      },
      "source": [
        "label_dict"
      ],
      "execution_count": 22,
      "outputs": [
        {
          "output_type": "execute_result",
          "data": {
            "text/plain": [
              "{'economy': 0,\n",
              " 'education': 6,\n",
              " 'entertainment': 5,\n",
              " 'international': 2,\n",
              " 'sports': 1,\n",
              " 'state': 3,\n",
              " 'technology': 4}"
            ]
          },
          "metadata": {},
          "execution_count": 22
        }
      ]
    },
    {
      "cell_type": "code",
      "metadata": {
        "colab": {
          "base_uri": "https://localhost:8080/",
          "height": 206
        },
        "id": "ruR_qW7IhwW5",
        "outputId": "5bd4cb31-a894-425a-970b-07dd1742c6d1"
      },
      "source": [
        "labels= train_data.category.unique()\n",
        "label_dict={}\n",
        "\n",
        "for index,possible_label in enumerate(labels):\n",
        "  label_dict[possible_label]=index\n",
        "\n",
        "train_data['label']=train_data.category.replace(label_dict)\n",
        "test_data['label']=test_data.category.replace(label_dict)\n",
        "\n",
        "train_data.head()"
      ],
      "execution_count": 21,
      "outputs": [
        {
          "output_type": "execute_result",
          "data": {
            "text/html": [
              "<div>\n",
              "<style scoped>\n",
              "    .dataframe tbody tr th:only-of-type {\n",
              "        vertical-align: middle;\n",
              "    }\n",
              "\n",
              "    .dataframe tbody tr th {\n",
              "        vertical-align: top;\n",
              "    }\n",
              "\n",
              "    .dataframe thead th {\n",
              "        text-align: right;\n",
              "    }\n",
              "</style>\n",
              "<table border=\"1\" class=\"dataframe\">\n",
              "  <thead>\n",
              "    <tr style=\"text-align: right;\">\n",
              "      <th></th>\n",
              "      <th>category</th>\n",
              "      <th>text</th>\n",
              "      <th>cleanText</th>\n",
              "      <th>label</th>\n",
              "    </tr>\n",
              "  </thead>\n",
              "  <tbody>\n",
              "    <tr>\n",
              "      <th>0</th>\n",
              "      <td>economy</td>\n",
              "      <td>বাংলাদেশে সফররত বিশ্ব বাণিজ্য সংস্থা (ডব্লিউট...</td>\n",
              "      <td>বাংলাদেশে    সফররত    বিশ্ব    বাণিজ্য    সং...</td>\n",
              "      <td>0</td>\n",
              "    </tr>\n",
              "    <tr>\n",
              "      <th>1</th>\n",
              "      <td>sports</td>\n",
              "      <td>ইউরোপিয়ান ফুটবলে আজ ঝড় বয়ে যাচ্ছে। একদিকে সংবা...</td>\n",
              "      <td>ইউরোপিয়ান    ফুটবলে    বয়ে    একদিকে    সংবা...</td>\n",
              "      <td>1</td>\n",
              "    </tr>\n",
              "    <tr>\n",
              "      <th>2</th>\n",
              "      <td>international</td>\n",
              "      <td>বিজেপির নেতৃত্বে ভারতের উত্তর প্রদেশ থেকে শুরু...</td>\n",
              "      <td>বিজেপির    নেতৃত্বে    ভারতের    উত্তর    প্...</td>\n",
              "      <td>2</td>\n",
              "    </tr>\n",
              "    <tr>\n",
              "      <th>3</th>\n",
              "      <td>state</td>\n",
              "      <td>নারায়ণগঞ্জের সোনারগাঁ উপজেলার একটি সরকারি প্র...</td>\n",
              "      <td>নারায়ণগঞ্জের    সোনারগাঁ    উপজেলার    সরকা...</td>\n",
              "      <td>3</td>\n",
              "    </tr>\n",
              "    <tr>\n",
              "      <th>4</th>\n",
              "      <td>sports</td>\n",
              "      <td>‘ছাই থেকে ছাই, ধুলো থেকে ধুলো...’ আধ্যাত্মিক ক...</td>\n",
              "      <td>ছাই    ছাই    ধুলো    ধুলো    আধ্যাত্মিক    ...</td>\n",
              "      <td>1</td>\n",
              "    </tr>\n",
              "  </tbody>\n",
              "</table>\n",
              "</div>"
            ],
            "text/plain": [
              "        category  ... label\n",
              "0        economy  ...     0\n",
              "1         sports  ...     1\n",
              "2  international  ...     2\n",
              "3          state  ...     3\n",
              "4         sports  ...     1\n",
              "\n",
              "[5 rows x 4 columns]"
            ]
          },
          "metadata": {},
          "execution_count": 21
        }
      ]
    },
    {
      "cell_type": "code",
      "metadata": {
        "id": "UfY_ditEFgAB"
      },
      "source": [
        "def remove_space(x):\n",
        "  x= re.sub('\\s+',' ',x)\n",
        "  return x\n",
        "\n",
        "train_data['cleanText']= train_data['cleanText'].apply(remove_space)"
      ],
      "execution_count": 23,
      "outputs": []
    },
    {
      "cell_type": "code",
      "metadata": {
        "colab": {
          "base_uri": "https://localhost:8080/"
        },
        "id": "7QLrOAvUi2YM",
        "outputId": "8aa1ccaa-8458-48ce-d283-e3c1b706af72"
      },
      "source": [
        "from collections import Counter\n",
        "result = len(set(Counter(\" \".join(train_data['cleanText'].values.tolist()).split(\" \")).items()))\n",
        "result"
      ],
      "execution_count": 24,
      "outputs": [
        {
          "output_type": "execute_result",
          "data": {
            "text/plain": [
              "464249"
            ]
          },
          "metadata": {},
          "execution_count": 24
        }
      ]
    },
    {
      "cell_type": "code",
      "metadata": {
        "id": "gHPDTlnhGO5S"
      },
      "source": [
        "# from bangla_stemmer.stemmer import stemmer\n",
        "# def stem_text (x):\n",
        "#   stmr = stemmer.BanglaStemmer()\n",
        "#   words=x.split(' ')\n",
        "#   stm = stmr.stem(words)\n",
        "#   words=(' ').join(stm)\n",
        "#   output.clear()\n",
        "#   return words\n",
        "\n",
        "# train_data['cleanText']=train_data['cleanText'].apply(stem_text)\n",
        "\n",
        "\n"
      ],
      "execution_count": 25,
      "outputs": []
    },
    {
      "cell_type": "code",
      "metadata": {
        "id": "TkQyGBCplFQK"
      },
      "source": [
        "# train_data.to_csv('train_data_stemmer.csv')"
      ],
      "execution_count": 26,
      "outputs": []
    },
    {
      "cell_type": "markdown",
      "metadata": {
        "id": "WPqKKoZ_UZrA"
      },
      "source": [
        "#Naive Bayes"
      ]
    },
    {
      "cell_type": "code",
      "metadata": {
        "id": "5uIEcUJdkOL7"
      },
      "source": [
        "from sklearn.naive_bayes import MultinomialNB\n",
        "model = MultinomialNB()\n",
        "\n",
        "from sklearn.feature_extraction.text import CountVectorizer, TfidfVectorizer\n",
        "vect = CountVectorizer()\n",
        "tf_train=vect.fit_transform(train_data['cleanText'])  #train the vectorizer, build the vocablury\n",
        "tf_test=vect.transform(test_data['cleanText'])  #get same encodings on test data as of vocabulary built\n",
        "\n",
        "model.fit(X=tf_train,y=train_data['category'])\n",
        "\n",
        "expected = test_data['category']\n",
        "predicted=model.predict(tf_test)"
      ],
      "execution_count": 28,
      "outputs": []
    },
    {
      "cell_type": "markdown",
      "metadata": {
        "id": "0QJrkycXT9Pr"
      },
      "source": [
        "#Classification Scores and Confusion Matrix"
      ]
    },
    {
      "cell_type": "code",
      "metadata": {
        "id": "1YGBrWPYms_S",
        "colab": {
          "base_uri": "https://localhost:8080/"
        },
        "outputId": "65896245-fd6d-4849-cae0-e301e8d0b0b4"
      },
      "source": [
        "from sklearn import metrics\n",
        "\n",
        "print(metrics.classification_report(expected, predicted))\n",
        "print(metrics.confusion_matrix(expected, predicted))"
      ],
      "execution_count": 29,
      "outputs": [
        {
          "output_type": "stream",
          "name": "stdout",
          "text": [
            "               precision    recall  f1-score   support\n",
            "\n",
            "      economy       0.86      0.82      0.84     14488\n",
            "    education       0.86      0.83      0.84     12818\n",
            "entertainment       0.89      0.92      0.90     15261\n",
            "international       0.88      0.88      0.88     15314\n",
            "       sports       0.98      0.92      0.95     15883\n",
            "        state       0.80      0.84      0.82     15183\n",
            "   technology       0.79      0.86      0.82      9937\n",
            "\n",
            "     accuracy                           0.87     98884\n",
            "    macro avg       0.87      0.87      0.87     98884\n",
            " weighted avg       0.87      0.87      0.87     98884\n",
            "\n",
            "[[11902   286   105   253    22   872  1048]\n",
            " [  309 10604   318    76    50  1065   396]\n",
            " [   40   180 13994   373   134   387   153]\n",
            " [  274   160   506 13509    87   346   432]\n",
            " [   95    53   292   420 14643   276   104]\n",
            " [  750   730   296   498    27 12749   133]\n",
            " [  466   330   165   278    35   146  8517]]\n"
          ]
        }
      ]
    },
    {
      "cell_type": "markdown",
      "metadata": {
        "id": "SrkIgxtWUEWv"
      },
      "source": [
        "#Logistic Regression"
      ]
    },
    {
      "cell_type": "code",
      "metadata": {
        "colab": {
          "base_uri": "https://localhost:8080/"
        },
        "id": "qiFBVWSHtEzp",
        "outputId": "67437eaa-cc5a-4af9-9919-63f575e1aa47"
      },
      "source": [
        "from sklearn.linear_model import LogisticRegression\n",
        "\n",
        "logreg = LogisticRegression(n_jobs=1, C=1e5 , multi_class='multinomial')\n",
        "logreg.fit(X=tf_train,y=train_data['category'])\n",
        "\n",
        "expected = test_data['category']\n",
        "predicted=logreg.predict(tf_test)"
      ],
      "execution_count": 30,
      "outputs": [
        {
          "output_type": "stream",
          "name": "stderr",
          "text": [
            "/usr/local/lib/python3.7/dist-packages/sklearn/linear_model/_logistic.py:940: ConvergenceWarning: lbfgs failed to converge (status=1):\n",
            "STOP: TOTAL NO. of ITERATIONS REACHED LIMIT.\n",
            "\n",
            "Increase the number of iterations (max_iter) or scale the data as shown in:\n",
            "    https://scikit-learn.org/stable/modules/preprocessing.html\n",
            "Please also refer to the documentation for alternative solver options:\n",
            "    https://scikit-learn.org/stable/modules/linear_model.html#logistic-regression\n",
            "  extra_warning_msg=_LOGISTIC_SOLVER_CONVERGENCE_MSG)\n"
          ]
        }
      ]
    },
    {
      "cell_type": "markdown",
      "metadata": {
        "id": "vpOXGUx_UCTl"
      },
      "source": [
        "#Classification Scores and Confusion Matrix"
      ]
    },
    {
      "cell_type": "code",
      "metadata": {
        "colab": {
          "base_uri": "https://localhost:8080/"
        },
        "id": "EkhSuAkttffB",
        "outputId": "099249c3-db33-41b6-f0b2-ca9ac1feeb67"
      },
      "source": [
        "print(metrics.classification_report(expected, predicted))\n",
        "print(metrics.confusion_matrix(expected, predicted))"
      ],
      "execution_count": 31,
      "outputs": [
        {
          "output_type": "stream",
          "name": "stdout",
          "text": [
            "               precision    recall  f1-score   support\n",
            "\n",
            "      economy       0.87      0.86      0.86     14488\n",
            "    education       0.88      0.89      0.89     12818\n",
            "entertainment       0.91      0.92      0.92     15261\n",
            "international       0.90      0.89      0.89     15314\n",
            "       sports       0.95      0.96      0.96     15883\n",
            "        state       0.86      0.85      0.85     15183\n",
            "   technology       0.84      0.84      0.84      9937\n",
            "\n",
            "     accuracy                           0.89     98884\n",
            "    macro avg       0.89      0.89      0.89     98884\n",
            " weighted avg       0.89      0.89      0.89     98884\n",
            "\n",
            "[[12407   298    88   251   110   714   620]\n",
            " [  224 11414   185    70   154   510   261]\n",
            " [   71   140 14031   325   214   357   123]\n",
            " [  241   134   378 13645   160   386   370]\n",
            " [   33    65   218   165 15258    82    62]\n",
            " [  735   581   304   414    82 12912   155]\n",
            " [  617   307   149   358    66   132  8308]]\n"
          ]
        }
      ]
    }
  ]
}