{
  "nbformat": 4,
  "nbformat_minor": 0,
  "metadata": {
    "colab": {
      "name": "Num #6.1  LSTM  without L2 regularization less layer 92%",
      "provenance": [],
      "collapsed_sections": []
    },
    "kernelspec": {
      "name": "python3",
      "display_name": "Python 3"
    },
    "language_info": {
      "name": "python"
    },
    "accelerator": "GPU"
  },
  "cells": [
    {
      "cell_type": "markdown",
      "metadata": {
        "id": "koFfr-cPf1-G"
      },
      "source": [
        "#upload kaggle json file\n",
        "\n",
        "\n",
        "\n"
      ]
    },
    {
      "cell_type": "code",
      "metadata": {
        "colab": {
          "resources": {
            "http://localhost:8080/nbextensions/google.colab/files.js": {
              "data": "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",
              "ok": true,
              "headers": [
                [
                  "content-type",
                  "application/javascript"
                ]
              ],
              "status": 200,
              "status_text": ""
            }
          },
          "base_uri": "https://localhost:8080/",
          "height": 259
        },
        "id": "GzuvKL7_MDQQ",
        "outputId": "e0356601-4073-4602-ac79-d82f0bb1fe2d"
      },
      "source": [
        "!pip install kaggle\n",
        "from google.colab import files \n",
        "files.upload() # upload json file\n",
        "\n",
        "!mkdir -p ~/.kaggle\n",
        "!cp kaggle.json ~/.kaggle/\n",
        "\n",
        "!chmod 600 ~/.kaggle/kaggle.json"
      ],
      "execution_count": null,
      "outputs": [
        {
          "output_type": "stream",
          "name": "stdout",
          "text": [
            "Requirement already satisfied: kaggle in /usr/local/lib/python3.7/dist-packages (1.5.12)\n",
            "Requirement already satisfied: requests in /usr/local/lib/python3.7/dist-packages (from kaggle) (2.23.0)\n",
            "Requirement already satisfied: python-slugify in /usr/local/lib/python3.7/dist-packages (from kaggle) (5.0.2)\n",
            "Requirement already satisfied: certifi in /usr/local/lib/python3.7/dist-packages (from kaggle) (2021.5.30)\n",
            "Requirement already satisfied: urllib3 in /usr/local/lib/python3.7/dist-packages (from kaggle) (1.24.3)\n",
            "Requirement already satisfied: python-dateutil in /usr/local/lib/python3.7/dist-packages (from kaggle) (2.8.2)\n",
            "Requirement already satisfied: six>=1.10 in /usr/local/lib/python3.7/dist-packages (from kaggle) (1.15.0)\n",
            "Requirement already satisfied: tqdm in /usr/local/lib/python3.7/dist-packages (from kaggle) (4.62.3)\n",
            "Requirement already satisfied: text-unidecode>=1.3 in /usr/local/lib/python3.7/dist-packages (from python-slugify->kaggle) (1.3)\n",
            "Requirement already satisfied: chardet<4,>=3.0.2 in /usr/local/lib/python3.7/dist-packages (from requests->kaggle) (3.0.4)\n",
            "Requirement already satisfied: idna<3,>=2.5 in /usr/local/lib/python3.7/dist-packages (from requests->kaggle) (2.10)\n"
          ]
        },
        {
          "output_type": "display_data",
          "data": {
            "text/html": [
              "\n",
              "     <input type=\"file\" id=\"files-ed813fe3-4d52-4daa-951b-83703502b1e6\" name=\"files[]\" multiple disabled\n",
              "        style=\"border:none\" />\n",
              "     <output id=\"result-ed813fe3-4d52-4daa-951b-83703502b1e6\">\n",
              "      Upload widget is only available when the cell has been executed in the\n",
              "      current browser session. Please rerun this cell to enable.\n",
              "      </output>\n",
              "      <script src=\"/nbextensions/google.colab/files.js\"></script> "
            ],
            "text/plain": [
              "<IPython.core.display.HTML object>"
            ]
          },
          "metadata": {}
        },
        {
          "output_type": "stream",
          "name": "stdout",
          "text": [
            "Saving kaggle.json to kaggle.json\n"
          ]
        }
      ]
    },
    {
      "cell_type": "code",
      "metadata": {
        "colab": {
          "base_uri": "https://localhost:8080/"
        },
        "id": "d4L337AGMkvi",
        "outputId": "faf0767d-ce43-4bdb-ec7e-8dee5a891927"
      },
      "source": [
        "!kaggle datasets download -d gakowsher/banglamct7-bangla-multiclass-text-dataset-7-tags"
      ],
      "execution_count": null,
      "outputs": [
        {
          "output_type": "stream",
          "name": "stdout",
          "text": [
            "Downloading banglamct7-bangla-multiclass-text-dataset-7-tags.zip to /content\n",
            " 97% 326M/335M [00:03<00:00, 83.5MB/s]\n",
            "100% 335M/335M [00:03<00:00, 110MB/s] \n"
          ]
        }
      ]
    },
    {
      "cell_type": "code",
      "metadata": {
        "colab": {
          "base_uri": "https://localhost:8080/"
        },
        "id": "5WGJ13tlMvod",
        "outputId": "3238a0c1-d48e-493a-fae0-2fdc1c8eb46d"
      },
      "source": [
        "from zipfile import ZipFile\n",
        "file_name= \"banglamct7-bangla-multiclass-text-dataset-7-tags.zip\"\n",
        "\n",
        "with ZipFile(file_name ,'r') as zip:\n",
        "  zip.extractall()\n",
        "  print('Done')"
      ],
      "execution_count": null,
      "outputs": [
        {
          "output_type": "stream",
          "name": "stdout",
          "text": [
            "Done\n"
          ]
        }
      ]
    },
    {
      "cell_type": "markdown",
      "metadata": {
        "id": "JkfpK40VgJpD"
      },
      "source": [
        "#Import Libraries"
      ]
    },
    {
      "cell_type": "code",
      "metadata": {
        "id": "Orx5npMjM3ss"
      },
      "source": [
        "import pandas as pd\n",
        "import numpy as np\n",
        "import os\n",
        "from google.colab import output\n"
      ],
      "execution_count": null,
      "outputs": []
    },
    {
      "cell_type": "code",
      "metadata": {
        "id": "l6HHHBidJoDy",
        "colab": {
          "base_uri": "https://localhost:8080/"
        },
        "outputId": "c33cccff-6ca5-42fc-838e-78b6739e6a87"
      },
      "source": [
        "import re\n",
        "import tensorflow as tf\n",
        "import keras\n",
        "from keras.models import Sequential\n",
        "from keras.layers import LSTM,Dense,Dropout,Activation,Embedding,Flatten,Bidirectional,MaxPooling2D, Conv1D, MaxPooling1D\n",
        "\n",
        "from keras import regularizers\n",
        "from keras.preprocessing.text import Tokenizer\n",
        "from keras.preprocessing.sequence import pad_sequences\n",
        "from keras.utils.np_utils import to_categorical\n",
        "\n",
        "\n",
        "from sklearn.model_selection import train_test_split\n",
        "from sklearn.model_selection import StratifiedKFold\n",
        "!pip install bangla-stemmer\n",
        "!pip install py-bangla-stemmer #2\n",
        "\n",
        "import seaborn as sns\n",
        "import matplotlib.pyplot as plt"
      ],
      "execution_count": null,
      "outputs": [
        {
          "output_type": "stream",
          "name": "stdout",
          "text": [
            "Collecting bangla-stemmer\n",
            "  Downloading bangla_stemmer-1.0-py3-none-any.whl (9.1 kB)\n",
            "Installing collected packages: bangla-stemmer\n",
            "Successfully installed bangla-stemmer-1.0\n",
            "Collecting py-bangla-stemmer\n",
            "  Downloading py-bangla-stemmer-0.5.1.tar.gz (16 kB)\n",
            "Building wheels for collected packages: py-bangla-stemmer\n",
            "  Building wheel for py-bangla-stemmer (setup.py) ... \u001b[?25l\u001b[?25hdone\n",
            "  Created wheel for py-bangla-stemmer: filename=py_bangla_stemmer-0.5.1-py3-none-any.whl size=17351 sha256=4d9e16c4eefdc922e66fb1c4ba9e4d60f14241c14dc060b49bc2667b9096971b\n",
            "  Stored in directory: /root/.cache/pip/wheels/30/bc/a9/37aed1bed9523e97e10d89ff21a92d82026b88974be8931336\n",
            "Successfully built py-bangla-stemmer\n",
            "Installing collected packages: py-bangla-stemmer\n",
            "Successfully installed py-bangla-stemmer-0.5.1\n"
          ]
        }
      ]
    },
    {
      "cell_type": "markdown",
      "metadata": {
        "id": "ap3zRokKgUiD"
      },
      "source": [
        "#Read dataset"
      ]
    },
    {
      "cell_type": "code",
      "metadata": {
        "id": "hKBAe7ZFNlQe"
      },
      "source": [
        "train_data=pd.read_csv('/content/BanglaMCT7/train.csv')\n",
        "test_data = pd.read_csv('/content/BanglaMCT7/test.csv')"
      ],
      "execution_count": null,
      "outputs": []
    },
    {
      "cell_type": "code",
      "metadata": {
        "colab": {
          "base_uri": "https://localhost:8080/",
          "height": 204
        },
        "id": "rVLTkp3MNyPR",
        "outputId": "9202581c-9102-497b-edbe-bfc34c311754"
      },
      "source": [
        "train_data.head()"
      ],
      "execution_count": null,
      "outputs": [
        {
          "output_type": "execute_result",
          "data": {
            "text/html": [
              "<div>\n",
              "<style scoped>\n",
              "    .dataframe tbody tr th:only-of-type {\n",
              "        vertical-align: middle;\n",
              "    }\n",
              "\n",
              "    .dataframe tbody tr th {\n",
              "        vertical-align: top;\n",
              "    }\n",
              "\n",
              "    .dataframe thead th {\n",
              "        text-align: right;\n",
              "    }\n",
              "</style>\n",
              "<table border=\"1\" class=\"dataframe\">\n",
              "  <thead>\n",
              "    <tr style=\"text-align: right;\">\n",
              "      <th></th>\n",
              "      <th>category</th>\n",
              "      <th>text</th>\n",
              "      <th>cleanText</th>\n",
              "    </tr>\n",
              "  </thead>\n",
              "  <tbody>\n",
              "    <tr>\n",
              "      <th>0</th>\n",
              "      <td>economy</td>\n",
              "      <td>বাংলাদেশে সফররত বিশ্ব বাণিজ্য সংস্থা (ডব্লিউট...</td>\n",
              "      <td>বাংলাদেশে    সফররত    বিশ্ব    বাণিজ্য    সং...</td>\n",
              "    </tr>\n",
              "    <tr>\n",
              "      <th>1</th>\n",
              "      <td>sports</td>\n",
              "      <td>ইউরোপিয়ান ফুটবলে আজ ঝড় বয়ে যাচ্ছে। একদিকে সংবা...</td>\n",
              "      <td>ইউরোপিয়ান    ফুটবলে    বয়ে    একদিকে    সংবা...</td>\n",
              "    </tr>\n",
              "    <tr>\n",
              "      <th>2</th>\n",
              "      <td>international</td>\n",
              "      <td>বিজেপির নেতৃত্বে ভারতের উত্তর প্রদেশ থেকে শুরু...</td>\n",
              "      <td>বিজেপির    নেতৃত্বে    ভারতের    উত্তর    প্...</td>\n",
              "    </tr>\n",
              "    <tr>\n",
              "      <th>3</th>\n",
              "      <td>state</td>\n",
              "      <td>নারায়ণগঞ্জের সোনারগাঁ উপজেলার একটি সরকারি প্র...</td>\n",
              "      <td>নারায়ণগঞ্জের    সোনারগাঁ    উপজেলার    সরকা...</td>\n",
              "    </tr>\n",
              "    <tr>\n",
              "      <th>4</th>\n",
              "      <td>sports</td>\n",
              "      <td>‘ছাই থেকে ছাই, ধুলো থেকে ধুলো...’ আধ্যাত্মিক ক...</td>\n",
              "      <td>ছাই    ছাই    ধুলো    ধুলো    আধ্যাত্মিক    ...</td>\n",
              "    </tr>\n",
              "  </tbody>\n",
              "</table>\n",
              "</div>"
            ],
            "text/plain": [
              "        category  ...                                          cleanText\n",
              "0        economy  ...    বাংলাদেশে    সফররত    বিশ্ব    বাণিজ্য    সং...\n",
              "1         sports  ...    ইউরোপিয়ান    ফুটবলে    বয়ে    একদিকে    সংবা...\n",
              "2  international  ...    বিজেপির    নেতৃত্বে    ভারতের    উত্তর    প্...\n",
              "3          state  ...    নারায়ণগঞ্জের    সোনারগাঁ    উপজেলার    সরকা...\n",
              "4         sports  ...    ছাই    ছাই    ধুলো    ধুলো    আধ্যাত্মিক    ...\n",
              "\n",
              "[5 rows x 3 columns]"
            ]
          },
          "metadata": {},
          "execution_count": 7
        }
      ]
    },
    {
      "cell_type": "code",
      "metadata": {
        "colab": {
          "base_uri": "https://localhost:8080/",
          "height": 120
        },
        "id": "yXKDRFACN2R7",
        "outputId": "0d190845-5134-4c04-ba60-19b2f5c73b4a"
      },
      "source": [
        "train_data.text.iloc[5]"
      ],
      "execution_count": null,
      "outputs": [
        {
          "output_type": "execute_result",
          "data": {
            "application/vnd.google.colaboratory.intrinsic+json": {
              "type": "string"
            },
            "text/plain": [
              "'খুদে ব্লগ লেখার জনপ্রিয় সাইট টুইটার এখন বাংলা ভাষায় দেখা যাবে। টুইটারের মূল ওয়েবসাইটের পাশাপাশি মোবাইল ওয়েবসাইট(mobile.twitter.com), অ্যান্ড্রয়েড ও আইওএস অ্যাপ্লিকেশনে (অ্যাপ) বাংলা সমর্থনের সুবিধা চালু করেছে। এর ফলে সম্পূর্ণ বাংলায় বার্তা (টুইট) লেখা ও পড়া যাবে। বাংলা ছাড়াও সম্প্রতি ভিয়েতনামিস, চেক, রোমানিয়ান ও ইউক্রেনিয়ান ভাষা যুক্ত হয়েছে টুইটারে। বিভিন্ন ভাষাভাষীর স্বেচ্ছাসেবকদের অনুবাদ করা এসব ভাষা এর আগে শুধু অনুবাদকাজের সঙ্গে যুক্ত স্বেচ্ছাসেবকদের জন্য উন্মুক্ত ছিল।গতকাল মঙ্গলবার থেকে এসব ভাষার সুবিধা সাধারণ ব্যবহারকারীদের জন্য উন্মুক্ত করা হয়েছে। বাংলা কিংবা অন্যান্য ভাষা নির্বাচন করতে টুইটারের সেটিংস থেকে ভাষা অপশনে গিয়ে পছন্দের ভাষা বেছে নিতে হবে।চাইলে যে কেউ টুইটারের এ ভাষা অনুবাদেও যুক্ত হতে পারেন। এতে নির্দিষ্ট শব্দ কিংবা লাইনের সঠিক অর্থ লিখে জমা দেওয়া যাবে। সেখান থেকে নির্বাচিত এবং সঞ্চালক কর্তৃক পরীক্ষিত হওয়ার পর সেটি মূল টুইটারে বাংলা ভাষায় যুক্ত হবে। আগ্রহীরা (translate.twitter.com) ঠিকানায় গিয়ে বাংলা অনুবাদে যুক্ত হতে পারেন।উল্লেখ্য, ২০০৬ সালে মাত্র ১৪০ শব্দের মধ্যে খুদে ব্লগ লেখার সুবিধা নিয়ে চালু হয় টুইটার। এরই মধ্যে গত বছরের প্রকাশিত তথ্য অনুযায়ী এ ওয়েবসাইটে নিবন্ধিত সদস্যের সংখ্যা ৫০ কোটিরও বেশি, যাঁরা প্রতিদিন ৩৪ কোটি টুইট প্রকাশ করেন। প্রতি মাসে নিয়মিত টুইটার ব্যবহার করেন ২৪ কোটিরও বেশি ব্যবহারকারী। বর্তমানে ৪৪টি ভাষায় টুইটার ব্যবহার করা যায়, যার মধ্যে বেশ কয়েকটি ভাষা পরীক্ষামূলক পর্যায়ে রয়েছে। তবে বাংলা পূর্ণাঙ্গভাবেই চালু হয়েছে। যাঁরা অনুবাদে যুক্ত হয়ে কাজ করছেন, এমন ব্যবহারকারীরা নামের পাশে পাবেন বিশেষ ‘ট্রান্সলেটর’ চিহ্ন দিয়ে দেওয়া টুইটার।—টুইটার ব্লগ অবলম্বনে নুরুন্নবী চৌধুরী'"
            ]
          },
          "metadata": {},
          "execution_count": 8
        }
      ]
    },
    {
      "cell_type": "code",
      "metadata": {
        "colab": {
          "base_uri": "https://localhost:8080/",
          "height": 120
        },
        "id": "S_cLU6sbN7QU",
        "outputId": "66cb54da-03f8-4ba4-d66c-121d4a964d93"
      },
      "source": [
        "train_data.cleanText.iloc[5]"
      ],
      "execution_count": null,
      "outputs": [
        {
          "output_type": "execute_result",
          "data": {
            "application/vnd.google.colaboratory.intrinsic+json": {
              "type": "string"
            },
            "text/plain": [
              "'  খুদে    ব্লগ    লেখার    জনপ্রিয়    সাইট    টুইটার    বাংলা    ভাষায়    টুইটারের    মূল    ওয়েবসাইটের    পাশাপাশি    মোবাইল    ওয়েবসাইট    অ্যান্ড্রয়েড    আইওএস    অ্যাপ্লিকেশনে    অ্যাপ    বাংলা    সমর্থনের    সুবিধা    চালু    সম্পূর্ণ    বাংলায়    বার্তা    টুইট    লেখা    পড়া    বাংলা    ছাড়াও    ভিয়েতনামিস    চেক    রোমানিয়ান    ইউক্রেনিয়ান    ভাষা    যুক্ত    টুইটারে    বিভিন্ন    ভাষাভাষীর    স্বেচ্ছাসেবকদের    অনুবাদ    এসব    ভাষা    অনুবাদকাজের    যুক্ত    স্বেচ্ছাসেবকদের    উন্মুক্ত    গতকাল    মঙ্গলবার    এসব    ভাষার    সুবিধা    সাধারণ    ব্যবহারকারীদের    উন্মুক্ত    বাংলা    অন্যান্য    ভাষা    নির্বাচন    টুইটারের    সেটিংস    ভাষা    অপশনে    পছন্দের    ভাষা    বেছে    চাইলে    টুইটারের    ভাষা    অনুবাদেও    যুক্ত    নির্দিষ্ট    শব্দ    লাইনের    সঠিক    অর্থ    লিখে    জমা    নির্বাচিত    সঞ্চালক    কর্তৃক    পরীক্ষিত    মূল    টুইটারে    বাংলা    ভাষায়    যুক্ত    আগ্রহীরা    ঠিকানায়    বাংলা    অনুবাদে    যুক্ত    উল্লেখ্য    সালে    শব্দের    খুদে    ব্লগ    লেখার    সুবিধা    চালু    টুইটার    এরই    বছরের    প্রকাশিত    তথ্য    ওয়েবসাইটে    নিবন্ধিত    সদস্যের    সংখ্যা    কোটিরও    বেশি    প্রতিদিন    কোটি    টুইট    প্রকাশ    মাসে    নিয়মিত    টুইটার    কোটিরও    বেশি    ব্যবহারকারী    বর্তমানে    ভাষায়    টুইটার    ভাষা    পরীক্ষামূলক    পর্যায়ে    বাংলা    পূর্ণাঙ্গভাবেই    চালু    অনুবাদে    যুক্ত    কাজ    ব্যবহারকারীরা    নামের    পাশে    পাবেন    ট্রান্সলেটর    চিহ্ন    টুইটার    টুইটার    ব্লগ    অবলম্বনে    নুরুন্নবী    চৌধুরী  '"
            ]
          },
          "metadata": {},
          "execution_count": 9
        }
      ]
    },
    {
      "cell_type": "code",
      "metadata": {
        "colab": {
          "base_uri": "https://localhost:8080/",
          "height": 204
        },
        "id": "4Y6zyFJpOGMc",
        "outputId": "98048b1c-d141-4c21-bd11-d44ca1acf6b1"
      },
      "source": [
        "test_data.head()"
      ],
      "execution_count": null,
      "outputs": [
        {
          "output_type": "execute_result",
          "data": {
            "text/html": [
              "<div>\n",
              "<style scoped>\n",
              "    .dataframe tbody tr th:only-of-type {\n",
              "        vertical-align: middle;\n",
              "    }\n",
              "\n",
              "    .dataframe tbody tr th {\n",
              "        vertical-align: top;\n",
              "    }\n",
              "\n",
              "    .dataframe thead th {\n",
              "        text-align: right;\n",
              "    }\n",
              "</style>\n",
              "<table border=\"1\" class=\"dataframe\">\n",
              "  <thead>\n",
              "    <tr style=\"text-align: right;\">\n",
              "      <th></th>\n",
              "      <th>category</th>\n",
              "      <th>text</th>\n",
              "      <th>cleanText</th>\n",
              "    </tr>\n",
              "  </thead>\n",
              "  <tbody>\n",
              "    <tr>\n",
              "      <th>0</th>\n",
              "      <td>education</td>\n",
              "      <td>অধ্যায়-২প্রিয় পরীক্ষার্থী, আজ তথ্য ও যোগাযোগ প...</td>\n",
              "      <td>অধ্যায়    প্রিয়    পরীক্ষার্থী    তথ্য    যো...</td>\n",
              "    </tr>\n",
              "    <tr>\n",
              "      <th>1</th>\n",
              "      <td>sports</td>\n",
              "      <td>স্পিন, স্পিন, স্পিন। লর্ডসে ইয়াসির শাহ্‌র লেগ ...</td>\n",
              "      <td>স্পিন    স্পিন    স্পিন    লর্ডসে    ইয়াসির ...</td>\n",
              "    </tr>\n",
              "    <tr>\n",
              "      <th>2</th>\n",
              "      <td>international</td>\n",
              "      <td>সিরিয়ার উত্তর-পশ্চিমাঞ্চলে গতকাল রোববার বিমান...</td>\n",
              "      <td>সিরিয়ার    উত্তর    পশ্চিমাঞ্চলে    গতকাল  ...</td>\n",
              "    </tr>\n",
              "    <tr>\n",
              "      <th>3</th>\n",
              "      <td>international</td>\n",
              "      <td>দক্ষিণ আফ্রিকার কেপটাউন বিশ্ববিদ্যালয়ের (ইউসিট...</td>\n",
              "      <td>দক্ষিণ    আফ্রিকার    কেপটাউন    বিশ্ববিদ্যা...</td>\n",
              "    </tr>\n",
              "    <tr>\n",
              "      <th>4</th>\n",
              "      <td>technology</td>\n",
              "      <td>সহজে ডিজিটাল আর্থিক সেবা দিতে অ্যাপ ও ডিজিটাল ...</td>\n",
              "      <td>সহজে    ডিজিটাল    আর্থিক    সেবা    অ্যাপ  ...</td>\n",
              "    </tr>\n",
              "  </tbody>\n",
              "</table>\n",
              "</div>"
            ],
            "text/plain": [
              "        category  ...                                          cleanText\n",
              "0      education  ...    অধ্যায়    প্রিয়    পরীক্ষার্থী    তথ্য    যো...\n",
              "1         sports  ...    স্পিন    স্পিন    স্পিন    লর্ডসে    ইয়াসির ...\n",
              "2  international  ...    সিরিয়ার    উত্তর    পশ্চিমাঞ্চলে    গতকাল  ...\n",
              "3  international  ...    দক্ষিণ    আফ্রিকার    কেপটাউন    বিশ্ববিদ্যা...\n",
              "4     technology  ...    সহজে    ডিজিটাল    আর্থিক    সেবা    অ্যাপ  ...\n",
              "\n",
              "[5 rows x 3 columns]"
            ]
          },
          "metadata": {},
          "execution_count": 10
        }
      ]
    },
    {
      "cell_type": "code",
      "metadata": {
        "colab": {
          "base_uri": "https://localhost:8080/",
          "height": 419
        },
        "id": "yxyu7t6BOUM8",
        "outputId": "cad4632b-7d8d-458b-cec0-277a3f2c025f"
      },
      "source": [
        "train_data"
      ],
      "execution_count": null,
      "outputs": [
        {
          "output_type": "execute_result",
          "data": {
            "text/html": [
              "<div>\n",
              "<style scoped>\n",
              "    .dataframe tbody tr th:only-of-type {\n",
              "        vertical-align: middle;\n",
              "    }\n",
              "\n",
              "    .dataframe tbody tr th {\n",
              "        vertical-align: top;\n",
              "    }\n",
              "\n",
              "    .dataframe thead th {\n",
              "        text-align: right;\n",
              "    }\n",
              "</style>\n",
              "<table border=\"1\" class=\"dataframe\">\n",
              "  <thead>\n",
              "    <tr style=\"text-align: right;\">\n",
              "      <th></th>\n",
              "      <th>category</th>\n",
              "      <th>text</th>\n",
              "      <th>cleanText</th>\n",
              "    </tr>\n",
              "  </thead>\n",
              "  <tbody>\n",
              "    <tr>\n",
              "      <th>0</th>\n",
              "      <td>economy</td>\n",
              "      <td>বাংলাদেশে সফররত বিশ্ব বাণিজ্য সংস্থা (ডব্লিউট...</td>\n",
              "      <td>বাংলাদেশে    সফররত    বিশ্ব    বাণিজ্য    সং...</td>\n",
              "    </tr>\n",
              "    <tr>\n",
              "      <th>1</th>\n",
              "      <td>sports</td>\n",
              "      <td>ইউরোপিয়ান ফুটবলে আজ ঝড় বয়ে যাচ্ছে। একদিকে সংবা...</td>\n",
              "      <td>ইউরোপিয়ান    ফুটবলে    বয়ে    একদিকে    সংবা...</td>\n",
              "    </tr>\n",
              "    <tr>\n",
              "      <th>2</th>\n",
              "      <td>international</td>\n",
              "      <td>বিজেপির নেতৃত্বে ভারতের উত্তর প্রদেশ থেকে শুরু...</td>\n",
              "      <td>বিজেপির    নেতৃত্বে    ভারতের    উত্তর    প্...</td>\n",
              "    </tr>\n",
              "    <tr>\n",
              "      <th>3</th>\n",
              "      <td>state</td>\n",
              "      <td>নারায়ণগঞ্জের সোনারগাঁ উপজেলার একটি সরকারি প্র...</td>\n",
              "      <td>নারায়ণগঞ্জের    সোনারগাঁ    উপজেলার    সরকা...</td>\n",
              "    </tr>\n",
              "    <tr>\n",
              "      <th>4</th>\n",
              "      <td>sports</td>\n",
              "      <td>‘ছাই থেকে ছাই, ধুলো থেকে ধুলো...’ আধ্যাত্মিক ক...</td>\n",
              "      <td>ছাই    ছাই    ধুলো    ধুলো    আধ্যাত্মিক    ...</td>\n",
              "    </tr>\n",
              "    <tr>\n",
              "      <th>...</th>\n",
              "      <td>...</td>\n",
              "      <td>...</td>\n",
              "      <td>...</td>\n",
              "    </tr>\n",
              "    <tr>\n",
              "      <th>98878</th>\n",
              "      <td>education</td>\n",
              "      <td>সহকারী অধ্যাপক  টিচার্স ট্রেনিং কলেজ (মহিলা)...</td>\n",
              "      <td>সহকারী    অধ্যাপক    টিচার্স    ট্রেনিং    ক...</td>\n",
              "    </tr>\n",
              "    <tr>\n",
              "      <th>98879</th>\n",
              "      <td>entertainment</td>\n",
              "      <td>অক্টোবরের ১১ তারিখে ৭৫ বছর পূর্ণ করবেন অমিতাভ ...</td>\n",
              "      <td>অক্টোবরের    তারিখে    বছর    পূর্ণ    অমিতা...</td>\n",
              "    </tr>\n",
              "    <tr>\n",
              "      <th>98880</th>\n",
              "      <td>technology</td>\n",
              "      <td>কাজী নাঈম আল রশিদ। সফটওয়্যার প্রকৌশলী। কাজ করে...</td>\n",
              "      <td>কাজী    নাঈম    রশিদ    সফটওয়্যার    প্রকৌশল...</td>\n",
              "    </tr>\n",
              "    <tr>\n",
              "      <th>98881</th>\n",
              "      <td>technology</td>\n",
              "      <td>ইয়াহুকে মার্কিন টেলিকম প্রতিষ্ঠান ভেরাইজন কিনে...</td>\n",
              "      <td>ইয়াহুকে    মার্কিন    টেলিকম    প্রতিষ্ঠান  ...</td>\n",
              "    </tr>\n",
              "    <tr>\n",
              "      <th>98882</th>\n",
              "      <td>education</td>\n",
              "      <td>অধ্যায়-১১প্রিয় শিক্ষার্থী, আজ ফিন্যান্স ও ব্যা...</td>\n",
              "      <td>অধ্যায়    প্রিয়    শিক্ষার্থী    ফিন্যান্স  ...</td>\n",
              "    </tr>\n",
              "  </tbody>\n",
              "</table>\n",
              "<p>98883 rows × 3 columns</p>\n",
              "</div>"
            ],
            "text/plain": [
              "            category  ...                                          cleanText\n",
              "0            economy  ...    বাংলাদেশে    সফররত    বিশ্ব    বাণিজ্য    সং...\n",
              "1             sports  ...    ইউরোপিয়ান    ফুটবলে    বয়ে    একদিকে    সংবা...\n",
              "2      international  ...    বিজেপির    নেতৃত্বে    ভারতের    উত্তর    প্...\n",
              "3              state  ...    নারায়ণগঞ্জের    সোনারগাঁ    উপজেলার    সরকা...\n",
              "4             sports  ...    ছাই    ছাই    ধুলো    ধুলো    আধ্যাত্মিক    ...\n",
              "...              ...  ...                                                ...\n",
              "98878      education  ...    সহকারী    অধ্যাপক    টিচার্স    ট্রেনিং    ক...\n",
              "98879  entertainment  ...    অক্টোবরের    তারিখে    বছর    পূর্ণ    অমিতা...\n",
              "98880     technology  ...    কাজী    নাঈম    রশিদ    সফটওয়্যার    প্রকৌশল...\n",
              "98881     technology  ...    ইয়াহুকে    মার্কিন    টেলিকম    প্রতিষ্ঠান  ...\n",
              "98882      education  ...    অধ্যায়    প্রিয়    শিক্ষার্থী    ফিন্যান্স  ...\n",
              "\n",
              "[98883 rows x 3 columns]"
            ]
          },
          "metadata": {},
          "execution_count": 11
        }
      ]
    },
    {
      "cell_type": "code",
      "metadata": {
        "colab": {
          "base_uri": "https://localhost:8080/",
          "height": 419
        },
        "id": "1-n5PJRfOaO8",
        "outputId": "ea8c7cec-f1ae-4588-c053-0cb17075bd83"
      },
      "source": [
        "test_data"
      ],
      "execution_count": null,
      "outputs": [
        {
          "output_type": "execute_result",
          "data": {
            "text/html": [
              "<div>\n",
              "<style scoped>\n",
              "    .dataframe tbody tr th:only-of-type {\n",
              "        vertical-align: middle;\n",
              "    }\n",
              "\n",
              "    .dataframe tbody tr th {\n",
              "        vertical-align: top;\n",
              "    }\n",
              "\n",
              "    .dataframe thead th {\n",
              "        text-align: right;\n",
              "    }\n",
              "</style>\n",
              "<table border=\"1\" class=\"dataframe\">\n",
              "  <thead>\n",
              "    <tr style=\"text-align: right;\">\n",
              "      <th></th>\n",
              "      <th>category</th>\n",
              "      <th>text</th>\n",
              "      <th>cleanText</th>\n",
              "    </tr>\n",
              "  </thead>\n",
              "  <tbody>\n",
              "    <tr>\n",
              "      <th>0</th>\n",
              "      <td>education</td>\n",
              "      <td>অধ্যায়-২প্রিয় পরীক্ষার্থী, আজ তথ্য ও যোগাযোগ প...</td>\n",
              "      <td>অধ্যায়    প্রিয়    পরীক্ষার্থী    তথ্য    যো...</td>\n",
              "    </tr>\n",
              "    <tr>\n",
              "      <th>1</th>\n",
              "      <td>sports</td>\n",
              "      <td>স্পিন, স্পিন, স্পিন। লর্ডসে ইয়াসির শাহ্‌র লেগ ...</td>\n",
              "      <td>স্পিন    স্পিন    স্পিন    লর্ডসে    ইয়াসির ...</td>\n",
              "    </tr>\n",
              "    <tr>\n",
              "      <th>2</th>\n",
              "      <td>international</td>\n",
              "      <td>সিরিয়ার উত্তর-পশ্চিমাঞ্চলে গতকাল রোববার বিমান...</td>\n",
              "      <td>সিরিয়ার    উত্তর    পশ্চিমাঞ্চলে    গতকাল  ...</td>\n",
              "    </tr>\n",
              "    <tr>\n",
              "      <th>3</th>\n",
              "      <td>international</td>\n",
              "      <td>দক্ষিণ আফ্রিকার কেপটাউন বিশ্ববিদ্যালয়ের (ইউসিট...</td>\n",
              "      <td>দক্ষিণ    আফ্রিকার    কেপটাউন    বিশ্ববিদ্যা...</td>\n",
              "    </tr>\n",
              "    <tr>\n",
              "      <th>4</th>\n",
              "      <td>technology</td>\n",
              "      <td>সহজে ডিজিটাল আর্থিক সেবা দিতে অ্যাপ ও ডিজিটাল ...</td>\n",
              "      <td>সহজে    ডিজিটাল    আর্থিক    সেবা    অ্যাপ  ...</td>\n",
              "    </tr>\n",
              "    <tr>\n",
              "      <th>...</th>\n",
              "      <td>...</td>\n",
              "      <td>...</td>\n",
              "      <td>...</td>\n",
              "    </tr>\n",
              "    <tr>\n",
              "      <th>98879</th>\n",
              "      <td>sports</td>\n",
              "      <td>১৯৫৯ সালে ইউরোপিয়ান ক্লাব কাপে জাতীয় দল পাঠান...</td>\n",
              "      <td>সালে    ইউরোপিয়ান    ক্লাব    কাপে    জাতীয়...</td>\n",
              "    </tr>\n",
              "    <tr>\n",
              "      <th>98880</th>\n",
              "      <td>entertainment</td>\n",
              "      <td>গানের দল সহজিয়ার প্রথম অ্যালবাম ‘রঙমিস্ত্রী’র ...</td>\n",
              "      <td>গানের    সহজিয়ার    প্রথম    অ্যালবাম    রঙম...</td>\n",
              "    </tr>\n",
              "    <tr>\n",
              "      <th>98881</th>\n",
              "      <td>international</td>\n",
              "      <td>ফেসবুকের ৮১ হাজার ব্যবহারকারীর তথ্য চুরি করে স...</td>\n",
              "      <td>ফেসবুকের    হাজার    ব্যবহারকারীর    তথ্য   ...</td>\n",
              "    </tr>\n",
              "    <tr>\n",
              "      <th>98882</th>\n",
              "      <td>economy</td>\n",
              "      <td>পেট্রোল পাম্পে তেল বা সিএনজির বিল বিকাশের মাধ...</td>\n",
              "      <td>পেট্রোল    পাম্পে    তেল    সিএনজির    বিল  ...</td>\n",
              "    </tr>\n",
              "    <tr>\n",
              "      <th>98883</th>\n",
              "      <td>economy</td>\n",
              "      <td>বছর শেষে ঢাকা স্টক এক্সচেঞ্জের (ডিএসই) দুটি সূ...</td>\n",
              "      <td>বছর    শেষে    ঢাকা    স্টক    এক্সচেঞ্জের  ...</td>\n",
              "    </tr>\n",
              "  </tbody>\n",
              "</table>\n",
              "<p>98884 rows × 3 columns</p>\n",
              "</div>"
            ],
            "text/plain": [
              "            category  ...                                          cleanText\n",
              "0          education  ...    অধ্যায়    প্রিয়    পরীক্ষার্থী    তথ্য    যো...\n",
              "1             sports  ...    স্পিন    স্পিন    স্পিন    লর্ডসে    ইয়াসির ...\n",
              "2      international  ...    সিরিয়ার    উত্তর    পশ্চিমাঞ্চলে    গতকাল  ...\n",
              "3      international  ...    দক্ষিণ    আফ্রিকার    কেপটাউন    বিশ্ববিদ্যা...\n",
              "4         technology  ...    সহজে    ডিজিটাল    আর্থিক    সেবা    অ্যাপ  ...\n",
              "...              ...  ...                                                ...\n",
              "98879         sports  ...    সালে    ইউরোপিয়ান    ক্লাব    কাপে    জাতীয়...\n",
              "98880  entertainment  ...    গানের    সহজিয়ার    প্রথম    অ্যালবাম    রঙম...\n",
              "98881  international  ...    ফেসবুকের    হাজার    ব্যবহারকারীর    তথ্য   ...\n",
              "98882        economy  ...    পেট্রোল    পাম্পে    তেল    সিএনজির    বিল  ...\n",
              "98883        economy  ...    বছর    শেষে    ঢাকা    স্টক    এক্সচেঞ্জের  ...\n",
              "\n",
              "[98884 rows x 3 columns]"
            ]
          },
          "metadata": {},
          "execution_count": 12
        }
      ]
    },
    {
      "cell_type": "code",
      "metadata": {
        "id": "6SYNv4ISObSk",
        "colab": {
          "base_uri": "https://localhost:8080/"
        },
        "outputId": "20a2c255-e333-4b2c-a154-12f31cd89da3"
      },
      "source": [
        "train_data.info()"
      ],
      "execution_count": null,
      "outputs": [
        {
          "output_type": "stream",
          "name": "stdout",
          "text": [
            "<class 'pandas.core.frame.DataFrame'>\n",
            "RangeIndex: 98883 entries, 0 to 98882\n",
            "Data columns (total 3 columns):\n",
            " #   Column     Non-Null Count  Dtype \n",
            "---  ------     --------------  ----- \n",
            " 0   category   98883 non-null  object\n",
            " 1   text       98883 non-null  object\n",
            " 2   cleanText  98883 non-null  object\n",
            "dtypes: object(3)\n",
            "memory usage: 2.3+ MB\n"
          ]
        }
      ]
    },
    {
      "cell_type": "code",
      "metadata": {
        "colab": {
          "base_uri": "https://localhost:8080/"
        },
        "id": "Ud44bF3a1fZK",
        "outputId": "2dfc55b2-e88f-46f1-9b26-88ee677956ae"
      },
      "source": [
        "test_data.info()"
      ],
      "execution_count": null,
      "outputs": [
        {
          "output_type": "stream",
          "name": "stdout",
          "text": [
            "<class 'pandas.core.frame.DataFrame'>\n",
            "RangeIndex: 98884 entries, 0 to 98883\n",
            "Data columns (total 3 columns):\n",
            " #   Column     Non-Null Count  Dtype \n",
            "---  ------     --------------  ----- \n",
            " 0   category   98884 non-null  object\n",
            " 1   text       98884 non-null  object\n",
            " 2   cleanText  98884 non-null  object\n",
            "dtypes: object(3)\n",
            "memory usage: 2.3+ MB\n"
          ]
        }
      ]
    },
    {
      "cell_type": "code",
      "metadata": {
        "colab": {
          "base_uri": "https://localhost:8080/"
        },
        "id": "49tQX4EM1kAx",
        "outputId": "fd7c5b73-a87b-4548-f036-66d616237e96"
      },
      "source": [
        "train_data.category.value_counts()"
      ],
      "execution_count": null,
      "outputs": [
        {
          "output_type": "execute_result",
          "data": {
            "text/plain": [
              "sports           15672\n",
              "international    15540\n",
              "state            15362\n",
              "entertainment    15198\n",
              "economy          14430\n",
              "education        12674\n",
              "technology       10007\n",
              "Name: category, dtype: int64"
            ]
          },
          "metadata": {},
          "execution_count": 15
        }
      ]
    },
    {
      "cell_type": "code",
      "metadata": {
        "colab": {
          "base_uri": "https://localhost:8080/"
        },
        "id": "ccw8B1az1voQ",
        "outputId": "95ec1f6c-d282-4471-880d-1d88aeac5d8f"
      },
      "source": [
        "test_data.category.value_counts()"
      ],
      "execution_count": null,
      "outputs": [
        {
          "output_type": "execute_result",
          "data": {
            "text/plain": [
              "sports           15883\n",
              "international    15314\n",
              "entertainment    15261\n",
              "state            15183\n",
              "economy          14488\n",
              "education        12818\n",
              "technology        9937\n",
              "Name: category, dtype: int64"
            ]
          },
          "metadata": {},
          "execution_count": 16
        }
      ]
    },
    {
      "cell_type": "code",
      "metadata": {
        "colab": {
          "base_uri": "https://localhost:8080/"
        },
        "id": "xhnA4R7z11mh",
        "outputId": "f0a944a7-9b5d-4ece-9d51-c429240bd9c4"
      },
      "source": [
        "print(train_data.isna().sum())"
      ],
      "execution_count": null,
      "outputs": [
        {
          "output_type": "stream",
          "name": "stdout",
          "text": [
            "category     0\n",
            "text         0\n",
            "cleanText    0\n",
            "dtype: int64\n"
          ]
        }
      ]
    },
    {
      "cell_type": "code",
      "metadata": {
        "colab": {
          "base_uri": "https://localhost:8080/"
        },
        "id": "krSzl8QuJU20",
        "outputId": "7917fbd0-2582-4c34-9c42-0c639d727526"
      },
      "source": [
        "print(test_data.isna().sum())"
      ],
      "execution_count": null,
      "outputs": [
        {
          "output_type": "stream",
          "name": "stdout",
          "text": [
            "category     0\n",
            "text         0\n",
            "cleanText    0\n",
            "dtype: int64\n"
          ]
        }
      ]
    },
    {
      "cell_type": "markdown",
      "metadata": {
        "id": "jiyTGX1Wgefa"
      },
      "source": [
        "#Data Processing:"
      ]
    },
    {
      "cell_type": "code",
      "metadata": {
        "colab": {
          "base_uri": "https://localhost:8080/"
        },
        "id": "tEAppY0rhweU",
        "outputId": "b8578b0a-bd91-497b-8ea9-c20c7c3ce3cb"
      },
      "source": [
        "label_dict"
      ],
      "execution_count": null,
      "outputs": [
        {
          "output_type": "execute_result",
          "data": {
            "text/plain": [
              "{'economy': 0,\n",
              " 'education': 6,\n",
              " 'entertainment': 5,\n",
              " 'international': 2,\n",
              " 'sports': 1,\n",
              " 'state': 3,\n",
              " 'technology': 4}"
            ]
          },
          "metadata": {},
          "execution_count": 22
        }
      ]
    },
    {
      "cell_type": "code",
      "metadata": {
        "colab": {
          "base_uri": "https://localhost:8080/",
          "height": 204
        },
        "id": "ruR_qW7IhwW5",
        "outputId": "ebdcae14-9b6f-458d-f8c7-5c9cae7eb34c"
      },
      "source": [
        "labels= train_data.category.unique()\n",
        "label_dict={}\n",
        "\n",
        "for index,possible_label in enumerate(labels):\n",
        "  label_dict[possible_label]=index\n",
        "\n",
        "train_data['label']=train_data.category.replace(label_dict)\n",
        "test_data['label']=test_data.category.replace(label_dict)\n",
        "\n",
        "train_data.head()"
      ],
      "execution_count": null,
      "outputs": [
        {
          "output_type": "execute_result",
          "data": {
            "text/html": [
              "<div>\n",
              "<style scoped>\n",
              "    .dataframe tbody tr th:only-of-type {\n",
              "        vertical-align: middle;\n",
              "    }\n",
              "\n",
              "    .dataframe tbody tr th {\n",
              "        vertical-align: top;\n",
              "    }\n",
              "\n",
              "    .dataframe thead th {\n",
              "        text-align: right;\n",
              "    }\n",
              "</style>\n",
              "<table border=\"1\" class=\"dataframe\">\n",
              "  <thead>\n",
              "    <tr style=\"text-align: right;\">\n",
              "      <th></th>\n",
              "      <th>category</th>\n",
              "      <th>text</th>\n",
              "      <th>cleanText</th>\n",
              "      <th>label</th>\n",
              "    </tr>\n",
              "  </thead>\n",
              "  <tbody>\n",
              "    <tr>\n",
              "      <th>0</th>\n",
              "      <td>economy</td>\n",
              "      <td>বাংলাদেশে সফররত বিশ্ব বাণিজ্য সংস্থা (ডব্লিউট...</td>\n",
              "      <td>বাংলাদেশে    সফররত    বিশ্ব    বাণিজ্য    সং...</td>\n",
              "      <td>0</td>\n",
              "    </tr>\n",
              "    <tr>\n",
              "      <th>1</th>\n",
              "      <td>sports</td>\n",
              "      <td>ইউরোপিয়ান ফুটবলে আজ ঝড় বয়ে যাচ্ছে। একদিকে সংবা...</td>\n",
              "      <td>ইউরোপিয়ান    ফুটবলে    বয়ে    একদিকে    সংবা...</td>\n",
              "      <td>1</td>\n",
              "    </tr>\n",
              "    <tr>\n",
              "      <th>2</th>\n",
              "      <td>international</td>\n",
              "      <td>বিজেপির নেতৃত্বে ভারতের উত্তর প্রদেশ থেকে শুরু...</td>\n",
              "      <td>বিজেপির    নেতৃত্বে    ভারতের    উত্তর    প্...</td>\n",
              "      <td>2</td>\n",
              "    </tr>\n",
              "    <tr>\n",
              "      <th>3</th>\n",
              "      <td>state</td>\n",
              "      <td>নারায়ণগঞ্জের সোনারগাঁ উপজেলার একটি সরকারি প্র...</td>\n",
              "      <td>নারায়ণগঞ্জের    সোনারগাঁ    উপজেলার    সরকা...</td>\n",
              "      <td>3</td>\n",
              "    </tr>\n",
              "    <tr>\n",
              "      <th>4</th>\n",
              "      <td>sports</td>\n",
              "      <td>‘ছাই থেকে ছাই, ধুলো থেকে ধুলো...’ আধ্যাত্মিক ক...</td>\n",
              "      <td>ছাই    ছাই    ধুলো    ধুলো    আধ্যাত্মিক    ...</td>\n",
              "      <td>1</td>\n",
              "    </tr>\n",
              "  </tbody>\n",
              "</table>\n",
              "</div>"
            ],
            "text/plain": [
              "        category  ... label\n",
              "0        economy  ...     0\n",
              "1         sports  ...     1\n",
              "2  international  ...     2\n",
              "3          state  ...     3\n",
              "4         sports  ...     1\n",
              "\n",
              "[5 rows x 4 columns]"
            ]
          },
          "metadata": {},
          "execution_count": 21
        }
      ]
    },
    {
      "cell_type": "code",
      "metadata": {
        "id": "UfY_ditEFgAB"
      },
      "source": [
        "def remove_space(x):\n",
        "  x= re.sub('\\s+',' ',x)\n",
        "  return x\n",
        "\n",
        "train_data['cleanText']= train_data['cleanText'].apply(remove_space)\n",
        "test_data['cleanText']=test_data['cleanText'].apply(remove_space)"
      ],
      "execution_count": null,
      "outputs": []
    },
    {
      "cell_type": "code",
      "metadata": {
        "colab": {
          "base_uri": "https://localhost:8080/"
        },
        "id": "7QLrOAvUi2YM",
        "outputId": "3935053e-5bf0-488b-c1dd-fee1576b69fd"
      },
      "source": [
        "from collections import Counter\n",
        "result = len(set(Counter(\" \".join(train_data['cleanText'].values.tolist()).split(\" \")).items()))\n",
        "result"
      ],
      "execution_count": null,
      "outputs": [
        {
          "output_type": "execute_result",
          "data": {
            "text/plain": [
              "464249"
            ]
          },
          "metadata": {},
          "execution_count": 24
        }
      ]
    },
    {
      "cell_type": "code",
      "metadata": {
        "id": "gHPDTlnhGO5S"
      },
      "source": [
        "# from bangla_stemmer.stemmer import stemmer\n",
        "# def stem_text (x):\n",
        "#   stmr = stemmer.BanglaStemmer()\n",
        "#   words=x.split(' ')\n",
        "#   stm = stmr.stem(words)\n",
        "#   words=(' ').join(stm)\n",
        "#   output.clear()\n",
        "#   return words\n",
        "\n",
        "# train_data['cleanText']=train_data['cleanText'].apply(stem_text)\n",
        "\n",
        "\n"
      ],
      "execution_count": null,
      "outputs": []
    },
    {
      "cell_type": "code",
      "metadata": {
        "id": "TkQyGBCplFQK"
      },
      "source": [
        "# train_data.to_csv('train_data_stemmer.csv')"
      ],
      "execution_count": null,
      "outputs": []
    },
    {
      "cell_type": "code",
      "metadata": {
        "id": "rnnVjmJGvrSb"
      },
      "source": [
        "# test_data['cleanText']=train_data['cleanText'].apply(stem_text)"
      ],
      "execution_count": null,
      "outputs": []
    },
    {
      "cell_type": "code",
      "metadata": {
        "id": "j435aHjWv9aX"
      },
      "source": [
        "# test_data.to_csv('test_data_stemmer.csv')"
      ],
      "execution_count": null,
      "outputs": []
    },
    {
      "cell_type": "code",
      "metadata": {
        "colab": {
          "base_uri": "https://localhost:8080/"
        },
        "id": "OxbSmaWWvAX7",
        "outputId": "4fa0adc8-3c86-4ee5-b4d5-f202839cf64d"
      },
      "source": [
        "\n",
        "result = len(set(Counter(\" \".join(train_data['cleanText'].values.tolist()).split(\" \")).items()))\n",
        "result\n",
        "\n",
        "#before stemming the sentence: 464249\n",
        "#after stemming the sentence: 356168"
      ],
      "execution_count": null,
      "outputs": [
        {
          "output_type": "execute_result",
          "data": {
            "text/plain": [
              "464249"
            ]
          },
          "metadata": {},
          "execution_count": 29
        }
      ]
    },
    {
      "cell_type": "code",
      "metadata": {
        "id": "vIwNR2zadQDc"
      },
      "source": [
        "test1, val1 =train_test_split(test_data, random_state=22, test_size=0.2 , stratify=test_data['label'])\n",
        "\n",
        "train_sentence = train_data['cleanText'].values\n",
        "test_sentence = test1['cleanText'].values\n",
        "val_sentence = val1['cleanText'].values\n",
        "\n",
        "train_label = train_data['label'].values\n",
        "test_label = test1['label'].values\n",
        "val_label = val1['label'].values\n",
        "\n",
        "train_labels= pd.get_dummies(train_label).values\n",
        "test_labels = pd.get_dummies(test_label).values\n",
        "val_labels= pd.get_dummies(val_label).values\n"
      ],
      "execution_count": null,
      "outputs": []
    },
    {
      "cell_type": "code",
      "metadata": {
        "colab": {
          "base_uri": "https://localhost:8080/"
        },
        "id": "hnK_jzOueY2Q",
        "outputId": "4b382d62-2f4c-44db-b328-c039b734ea7c"
      },
      "source": [
        "test1.category.value_counts()"
      ],
      "execution_count": null,
      "outputs": [
        {
          "output_type": "execute_result",
          "data": {
            "text/plain": [
              "sports           12706\n",
              "international    12251\n",
              "entertainment    12209\n",
              "state            12146\n",
              "economy          11590\n",
              "education        10255\n",
              "technology        7950\n",
              "Name: category, dtype: int64"
            ]
          },
          "metadata": {},
          "execution_count": 31
        }
      ]
    },
    {
      "cell_type": "code",
      "metadata": {
        "colab": {
          "base_uri": "https://localhost:8080/"
        },
        "id": "Ltl0W0Ueecxt",
        "outputId": "d0393433-a86d-468d-ecdb-034a37d53a25"
      },
      "source": [
        "val1.category.value_counts()"
      ],
      "execution_count": null,
      "outputs": [
        {
          "output_type": "execute_result",
          "data": {
            "text/plain": [
              "sports           3177\n",
              "international    3063\n",
              "entertainment    3052\n",
              "state            3037\n",
              "economy          2898\n",
              "education        2563\n",
              "technology       1987\n",
              "Name: category, dtype: int64"
            ]
          },
          "metadata": {},
          "execution_count": 32
        }
      ]
    },
    {
      "cell_type": "code",
      "metadata": {
        "colab": {
          "base_uri": "https://localhost:8080/"
        },
        "id": "Wv71zJIHejim",
        "outputId": "410729a1-b859-46d1-ba8f-867b0a28f2f6"
      },
      "source": [
        "print(train_sentence[10])\n",
        "print(train_labels[10])"
      ],
      "execution_count": null,
      "outputs": [
        {
          "output_type": "stream",
          "name": "stdout",
          "text": [
            " শফিক তুহিনের সুর সংগীত পরিচালনায় চলচ্চিত্রের গানে কণ্ঠ তাঁরই ভাই জাহাঙ্গীর গতকাল শুক্রবার রাজধানীর মোহাম্মদপুরের স্টুডিওতে গানটির রেকর্ডিং জাকির হোসেন রাজু পরিচালিত ছবিটির নাম মনের পাইলাম শফিক তুহিন গানের ভাইয়া ঢাকায় আসেন ভাইয়ার কারণে আমিও একটা সময় নিজেকে গানের যুক্ত ক্যারিয়ার গড়তে হতো গানে আজকে সবকিছুই ভাইয়ার কারণেই শফিক তুহিন ভাইয়া সুর সংগীত পরিচালনায় কাজ একটা এদিকে শফিক তুহিনের ভাই জাহাঙ্গীর প্রথম আলো ডটকমকে আসলে গানের জন্যই ঢাকায় আসা আটটি একক গানের অ্যালবাম প্রকাশিত গেয়েছি মিশ্র অ্যালবামে ছোট ভাইয়ের সুর সংগীত পরিচালনায় চলচ্চিত্রের গানে কণ্ঠ দিলাম টাইটেল সংগীত পুরো বিষয়টি বেশি আনন্দের পাশাপাশি বেশি আবেগও কাজ গানটিতে কণ্ঠ গাড়িতে উঠেই প্রথম মাকে ফোন জানালাম মিলিয়ে আসলেই অন্যরকম অনুভূতি এবারের সিটিসেল চ্যানেল সংগীত পুরস্কারে শফিক তুহিন সেরা গীতিকারের পুরস্কার অর্জন একক গানের অ্যালবাম পাগলামি তুহিন পুরস্কার পান \n",
            "[0 0 0 0 0 1 0]\n"
          ]
        }
      ]
    },
    {
      "cell_type": "code",
      "metadata": {
        "colab": {
          "base_uri": "https://localhost:8080/"
        },
        "id": "8615ScjXD7Rg",
        "outputId": "b4d6cd39-3234-497d-d3fe-dbd26ef9137a"
      },
      "source": [
        "print(test_sentence[10])\n",
        "print(test_labels[10])"
      ],
      "execution_count": null,
      "outputs": [
        {
          "output_type": "stream",
          "name": "stdout",
          "text": [
            " খ্রিস্টান সম্প্রদায়ের ধর্মীয় উত্সব বড়দিন উপলক্ষে রবিবার দিনাজপুরের হিলি স্থলবন্দর পণ্য আমদানি রফতানি কার্যক্রম বন্ধ স্থলবন্দর বাংলাদেশ ভারতের প্রকার পণ্য আমদানি রফতানি ইমিগ্রেশন চেকপোস্টের পাসপোর্টে যাত্রী পারাপার চালু এছাড়াও বন্দরের বেসরকারি ওয়্যার হাউজ পানামা পোর্টের অভ্যন্তরে পণ্য উঠা নামার কাজও বন্ধ সোমবার যথারীতি বন্দরের পণ্য আমদানি রফতানিসহ সার্বিক কার্যক্রম স্বাভাবিক নিয়মে চলবে বাংলাহিলি কাস্টমস সিএন্ডএফ এজেন্টস এসোসিয়েশনের সভাপতি কামাল হোসেন রাজ বড়দিন উপলক্ষে বন্দরের দুই অংশের ব্যবসায়ীরা বন্দরের সকল কার্যক্রম বন্ধ রাখার সিদ্ধান্ত নেন কারণে সকাল বন্দর আমদানি রফতানি কার্যক্রমসহ পণ্য লোড আনলোড বন্ধ ইত্তেফাক এএসএস \n",
            "[1 0 0 0 0 0 0]\n"
          ]
        }
      ]
    },
    {
      "cell_type": "code",
      "metadata": {
        "colab": {
          "base_uri": "https://localhost:8080/"
        },
        "id": "FapLlV1KCyAj",
        "outputId": "e60f0558-1172-4d26-b651-1a0c7f142bec"
      },
      "source": [
        " test_data.info()"
      ],
      "execution_count": null,
      "outputs": [
        {
          "output_type": "stream",
          "name": "stdout",
          "text": [
            "<class 'pandas.core.frame.DataFrame'>\n",
            "RangeIndex: 98884 entries, 0 to 98883\n",
            "Data columns (total 4 columns):\n",
            " #   Column     Non-Null Count  Dtype \n",
            "---  ------     --------------  ----- \n",
            " 0   category   98884 non-null  object\n",
            " 1   text       98884 non-null  object\n",
            " 2   cleanText  98884 non-null  object\n",
            " 3   label      98884 non-null  int64 \n",
            "dtypes: int64(1), object(3)\n",
            "memory usage: 3.0+ MB\n"
          ]
        }
      ]
    },
    {
      "cell_type": "code",
      "metadata": {
        "id": "YJImwbMSDOxq"
      },
      "source": [
        "# test_data.dropna(subset=['cleanText'], inplace=True)"
      ],
      "execution_count": null,
      "outputs": []
    },
    {
      "cell_type": "markdown",
      "metadata": {
        "id": "sJRDr4H7gy8x"
      },
      "source": [
        "#Tokenization and padding"
      ]
    },
    {
      "cell_type": "code",
      "metadata": {
        "id": "-cbMKLrDt5-p"
      },
      "source": [
        "vocab_size = 200000\n",
        "embedding_dim = 300\n",
        "max_length = 4000\n",
        "trunc_type='post'\n",
        "oov_tok = \"<OOV>\""
      ],
      "execution_count": null,
      "outputs": []
    },
    {
      "cell_type": "code",
      "metadata": {
        "colab": {
          "base_uri": "https://localhost:8080/"
        },
        "id": "1MX7l20EQ2w1",
        "outputId": "10ec4e0c-68ed-43dd-9839-8c3090d8ffbe"
      },
      "source": [
        "tokenizer = Tokenizer(num_words = vocab_size, oov_token=oov_tok)\n",
        "tokenizer.fit_on_texts(train_sentence)\n",
        "word_index = tokenizer.word_index\n",
        "\n",
        "\n",
        "\n",
        "print(len(word_index))\n",
        "print(\"Word index length:\"+str(len(tokenizer.word_index)))\n",
        "sequences = tokenizer.texts_to_sequences(train_sentence)\n",
        "padded = pad_sequences(sequences,maxlen=max_length, truncating=trunc_type)\n",
        "\n"
      ],
      "execution_count": null,
      "outputs": [
        {
          "output_type": "stream",
          "name": "stdout",
          "text": [
            "464246\n",
            "Word index length:464246\n"
          ]
        }
      ]
    },
    {
      "cell_type": "code",
      "metadata": {
        "id": "DF_Pov4FOLsH"
      },
      "source": [
        "\n",
        "test_sequences = tokenizer.texts_to_sequences(test_sentence)\n",
        "test_padded = pad_sequences(test_sequences,maxlen=max_length)"
      ],
      "execution_count": null,
      "outputs": []
    },
    {
      "cell_type": "code",
      "metadata": {
        "id": "HhXrJFyrRtvs"
      },
      "source": [
        "\n",
        "val_sequences = tokenizer.texts_to_sequences(val_sentence)\n",
        "val_padded = pad_sequences(val_sequences,maxlen=max_length)"
      ],
      "execution_count": null,
      "outputs": []
    },
    {
      "cell_type": "code",
      "metadata": {
        "id": "NP4CvFFFQ5pc",
        "colab": {
          "base_uri": "https://localhost:8080/"
        },
        "outputId": "e7c875fc-42b0-4ceb-d249-0e9fcd7f2b42"
      },
      "source": [
        "print(\"Padded shape(training): \"+str(padded.shape))\n",
        "print(\"Padded shape(testing): \"+str(val_padded.shape))"
      ],
      "execution_count": null,
      "outputs": [
        {
          "output_type": "stream",
          "name": "stdout",
          "text": [
            "Padded shape(training): (98883, 4000)\n",
            "Padded shape(testing): (19777, 4000)\n"
          ]
        }
      ]
    },
    {
      "cell_type": "markdown",
      "metadata": {
        "id": "u4OFueb7g-XA"
      },
      "source": [
        "#LSTM model"
      ]
    },
    {
      "cell_type": "code",
      "metadata": {
        "colab": {
          "base_uri": "https://localhost:8080/"
        },
        "id": "CT183RYbRQVk",
        "outputId": "895a0918-a63e-4b53-81ca-55d292c9e835"
      },
      "source": [
        "model= Sequential()\n",
        "model.add(Embedding(vocab_size, embedding_dim, input_length=max_length))\n",
        "model.add(LSTM(64, return_sequences=True ))\n",
        "model.add(LSTM(64))\n",
        "model.add(Flatten())\n",
        "model.add(Dropout(0.5))\n",
        "model.add(Dense(100, activation='relu'))\n",
        "model.add(Dense(25, activation='relu'))\n",
        "model.add(Dense(7, activation='softmax'))\n",
        "\n",
        "\n",
        "model.summary()\n",
        "model.compile(loss='categorical_crossentropy',optimizer='adam',metrics=['accuracy'])\n",
        "\n",
        "#LSTM"
      ],
      "execution_count": null,
      "outputs": [
        {
          "output_type": "stream",
          "name": "stdout",
          "text": [
            "Model: \"sequential\"\n",
            "_________________________________________________________________\n",
            "Layer (type)                 Output Shape              Param #   \n",
            "=================================================================\n",
            "embedding (Embedding)        (None, 4000, 300)         60000000  \n",
            "_________________________________________________________________\n",
            "lstm (LSTM)                  (None, 4000, 64)          93440     \n",
            "_________________________________________________________________\n",
            "lstm_1 (LSTM)                (None, 64)                33024     \n",
            "_________________________________________________________________\n",
            "flatten (Flatten)            (None, 64)                0         \n",
            "_________________________________________________________________\n",
            "dropout (Dropout)            (None, 64)                0         \n",
            "_________________________________________________________________\n",
            "dense (Dense)                (None, 100)               6500      \n",
            "_________________________________________________________________\n",
            "dense_1 (Dense)              (None, 25)                2525      \n",
            "_________________________________________________________________\n",
            "dense_2 (Dense)              (None, 7)                 182       \n",
            "=================================================================\n",
            "Total params: 60,135,671\n",
            "Trainable params: 60,135,671\n",
            "Non-trainable params: 0\n",
            "_________________________________________________________________\n"
          ]
        }
      ]
    },
    {
      "cell_type": "code",
      "metadata": {
        "colab": {
          "base_uri": "https://localhost:8080/",
          "height": 856
        },
        "id": "UrexrOxXbX08",
        "outputId": "20fd9fa7-2574-4db8-c2ca-c4683b18e8a5"
      },
      "source": [
        "from tensorflow import keras\n",
        "keras.utils.plot_model(model)"
      ],
      "execution_count": null,
      "outputs": [
        {
          "output_type": "execute_result",
          "data": {
            "image/png": "[encoded data removed]",
            "text/plain": [
              "<IPython.core.display.Image object>"
            ]
          },
          "metadata": {},
          "execution_count": 44
        }
      ]
    },
    {
      "cell_type": "code",
      "metadata": {
        "colab": {
          "base_uri": "https://localhost:8080/"
        },
        "id": "raqB62rKRb8X",
        "outputId": "1fabb172-5c6b-4080-83c7-ffe1db26c19f"
      },
      "source": [
        "history=model.fit(padded,train_labels,epochs=5,batch_size=128,validation_data=(val_padded,val_labels),verbose=1)"
      ],
      "execution_count": null,
      "outputs": [
        {
          "output_type": "stream",
          "name": "stdout",
          "text": [
            "Epoch 1/5\n",
            "773/773 [==============================] - 810s 1s/step - loss: 0.6732 - accuracy: 0.7759 - val_loss: 0.4464 - val_accuracy: 0.8805\n",
            "Epoch 2/5\n",
            "773/773 [==============================] - 800s 1s/step - loss: 0.2634 - accuracy: 0.9288 - val_loss: 0.3351 - val_accuracy: 0.9064\n",
            "Epoch 3/5\n",
            "773/773 [==============================] - 799s 1s/step - loss: 0.1630 - accuracy: 0.9581 - val_loss: 0.3137 - val_accuracy: 0.9177\n",
            "Epoch 4/5\n",
            "773/773 [==============================] - 798s 1s/step - loss: 0.1071 - accuracy: 0.9726 - val_loss: 0.3274 - val_accuracy: 0.9195\n",
            "Epoch 5/5\n",
            "773/773 [==============================] - 799s 1s/step - loss: 0.0830 - accuracy: 0.9796 - val_loss: 0.3451 - val_accuracy: 0.9218\n"
          ]
        }
      ]
    },
    {
      "cell_type": "markdown",
      "metadata": {
        "id": "F4PGhxZdhOfv"
      },
      "source": [
        "#Model Evaluation"
      ]
    },
    {
      "cell_type": "code",
      "metadata": {
        "id": "_Xi2P43aSHHQ",
        "colab": {
          "base_uri": "https://localhost:8080/",
          "height": 590
        },
        "outputId": "f7b68a78-f907-4fd0-b4bf-befe4f93ffc5"
      },
      "source": [
        "print(history.history.keys())\n",
        "loss = history.history['loss']\n",
        "val_loss = history.history['val_loss']\n",
        "plt.plot(loss)\n",
        "plt.plot(val_loss)\n",
        "plt.title('model loss')\n",
        "plt.ylabel('loss')\n",
        "plt.xlabel('epoch')\n",
        "plt.legend(['loss', 'val_loss'])\n",
        "plt.show()\n",
        "\n",
        "accuracy = history.history['accuracy']\n",
        "val_accuracy= history.history['val_accuracy']\n",
        "plt.plot(accuracy)\n",
        "plt.plot(val_accuracy)\n",
        "plt.title('model accuracy')\n",
        "plt.ylabel('accuracy')\n",
        "plt.xlabel('epoch')\n",
        "plt.legend(['accuracy', 'val_accuracy'])\n",
        "plt.show()"
      ],
      "execution_count": null,
      "outputs": [
        {
          "output_type": "stream",
          "name": "stdout",
          "text": [
            "dict_keys(['loss', 'accuracy', 'val_loss', 'val_accuracy'])\n"
          ]
        },
        {
          "output_type": "display_data",
          "data": {
            "image/png": "[encoded data removed]",
            "text/plain": [
              "<Figure size 432x288 with 1 Axes>"
            ]
          },
          "metadata": {}
        },
        {
          "output_type": "display_data",
          "data": {
            "image/png": "[encoded data removed]",
            "text/plain": [
              "<Figure size 432x288 with 1 Axes>"
            ]
          },
          "metadata": {}
        }
      ]
    },
    {
      "cell_type": "code",
      "metadata": {
        "id": "kmOO4LoKyCgO",
        "colab": {
          "base_uri": "https://localhost:8080/"
        },
        "outputId": "4da9264e-60d9-49e8-ff46-06c27b9b0173"
      },
      "source": [
        "#accuracy calculation\n",
        "loss_and_metrics = model.evaluate(padded,train_labels,batch_size=128)\n",
        "print(\"The train accuracy is: \"+str(loss_and_metrics[1]))\n"
      ],
      "execution_count": null,
      "outputs": [
        {
          "output_type": "stream",
          "name": "stdout",
          "text": [
            "773/773 [==============================] - 250s 323ms/step - loss: 0.0345 - accuracy: 0.9916\n",
            "The train accuracy is: 0.9916365742683411\n"
          ]
        }
      ]
    },
    {
      "cell_type": "code",
      "metadata": {
        "id": "B0hbd6DFyCsH"
      },
      "source": [
        "predictions = model.predict(test_padded)\n",
        "pred1 = np.argmax(predictions , axis=1)"
      ],
      "execution_count": null,
      "outputs": []
    },
    {
      "cell_type": "code",
      "metadata": {
        "id": "D22eDkhVyCvP"
      },
      "source": [
        "from sklearn.metrics import confusion_matrix, classification_report, accuracy_score"
      ],
      "execution_count": null,
      "outputs": []
    },
    {
      "cell_type": "markdown",
      "metadata": {
        "id": "hJIjmBhxhZ3n"
      },
      "source": [
        "#Classification Scores\n"
      ]
    },
    {
      "cell_type": "code",
      "metadata": {
        "id": "Xm9GCP69yCy6",
        "colab": {
          "base_uri": "https://localhost:8080/"
        },
        "outputId": "810a7660-d423-44dd-9aa2-ff4774b12168"
      },
      "source": [
        "test_labels = np.argmax(test_labels,axis=1)\n",
        "print(classification_report(test_labels , pred1))"
      ],
      "execution_count": null,
      "outputs": [
        {
          "output_type": "stream",
          "name": "stdout",
          "text": [
            "              precision    recall  f1-score   support\n",
            "\n",
            "           0       0.90      0.89      0.89     11590\n",
            "           1       0.99      0.98      0.98     12706\n",
            "           2       0.92      0.92      0.92     12251\n",
            "           3       0.88      0.87      0.88     12146\n",
            "           4       0.90      0.87      0.88      7950\n",
            "           5       0.94      0.95      0.95     12209\n",
            "           6       0.90      0.93      0.92     10255\n",
            "\n",
            "    accuracy                           0.92     79107\n",
            "   macro avg       0.92      0.92      0.92     79107\n",
            "weighted avg       0.92      0.92      0.92     79107\n",
            "\n"
          ]
        }
      ]
    },
    {
      "cell_type": "code",
      "metadata": {
        "id": "qecnSFruyM7c",
        "colab": {
          "base_uri": "https://localhost:8080/"
        },
        "outputId": "64244fe6-671d-4280-aed4-9a11e9d58df7"
      },
      "source": [
        "accuracy_score(test_labels , pred1)"
      ],
      "execution_count": null,
      "outputs": [
        {
          "output_type": "execute_result",
          "data": {
            "text/plain": [
              "0.9200070790195558"
            ]
          },
          "metadata": {},
          "execution_count": 52
        }
      ]
    },
    {
      "cell_type": "code",
      "metadata": {
        "id": "GX1gws45ZKLg"
      },
      "source": [
        ""
      ],
      "execution_count": null,
      "outputs": []
    }
  ]
}